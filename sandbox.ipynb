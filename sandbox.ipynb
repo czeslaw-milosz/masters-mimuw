{
 "cells": [
  {
   "cell_type": "code",
   "execution_count": 1,
   "id": "2976d070-e2e2-4850-8468-94825300b010",
   "metadata": {},
   "outputs": [],
   "source": [
    "import os\n",
    "import sys"
   ]
  },
  {
   "cell_type": "code",
   "execution_count": 2,
   "id": "266ad346-c369-4d3c-80e0-52c445109270",
   "metadata": {},
   "outputs": [],
   "source": [
    "import pandas as pd\n",
    "import polars as pl\n",
    "import seaborn as sns\n",
    "from SigProfilerMatrixGenerator.scripts import SigProfilerMatrixGeneratorFunc as matGen\n",
    "from matplotlib import pyplot as plt"
   ]
  },
  {
   "cell_type": "code",
   "execution_count": 3,
   "id": "f197051d-b1ad-4ac1-80c0-d74f0107a930",
   "metadata": {},
   "outputs": [
    {
     "name": "stdout",
     "output_type": "stream",
     "text": [
      "copy_number_somatic_mutation.BRCA-EU.tsv\n",
      "counts\n",
      "reference_genomes\n",
      "sample.BRCA-EU.tsv\n",
      "simple_somatic_mutation.open.BRCA-EU.parquet\n",
      "simple_somatic_mutation.open.BRCA-EU.tsv\n",
      "simple_somatic_mutation_renamed.parquet\n",
      "simple_somatic_mutation_sbs.parquet\n",
      "simple_somatic_mutation_sbs.tsv\n",
      "specimen.BRCA-EU.tsv\n",
      "structural_somatic_mutation.BRCA-EU.tsv\n"
     ]
    }
   ],
   "source": [
    "!ls data"
   ]
  },
  {
   "cell_type": "code",
   "execution_count": 15,
   "id": "0fc7f028-33f0-4bc3-8e05-b9a9b5a8be20",
   "metadata": {},
   "outputs": [],
   "source": [
    "# pl.scan_parquet(\n",
    "#     \"data/simple_somatic_mutation.open.BRCA-EU.parquet\"\n",
    "# ).rename(\n",
    "#     {\"icgc_sample_id\": \"analyzed_sample_id\"}\n",
    "# ).sink_parquet(\"data/simple_somatic_mutation_renamed.parquet\")"
   ]
  },
  {
   "cell_type": "markdown",
   "id": "af058aba-0aa6-43ed-9845-04ee331922e0",
   "metadata": {},
   "source": [
    "### This is how a smaller SBS-only file was created; don't rerun"
   ]
  },
  {
   "cell_type": "code",
   "execution_count": null,
   "id": "6dce2ddb-5de7-482c-8d9c-1865cb2bf711",
   "metadata": {},
   "outputs": [],
   "source": [
    "pl.scan_csv(\n",
    "    \"data/counts/simple_somatic_mutation.open.BRCA-EU.tsv\", \n",
    "    separator=\"\\t\", \n",
    "    infer_schema_length=10_000, \n",
    "    low_memory=True\n",
    ").filter(\n",
    "    pl.col(\"mutation_type\") == \"single base substitution\"\n",
    ").collect(\n",
    "    streaming=True\n",
    ").write_csv(\n",
    "    \"data/simple_somatic_mutation.open.BRCA-EU.sbs_only.tsv\",\n",
    "    separator=\"\\t\"\n",
    ")"
   ]
  },
  {
   "cell_type": "markdown",
   "id": "84eed3d8-9864-464d-a11b-2dd6bd9938bf",
   "metadata": {},
   "source": [
    "### Keep only necessary cols"
   ]
  },
  {
   "cell_type": "code",
   "execution_count": 13,
   "id": "b376dff3-a527-49ef-baf8-dd703b61d6ee",
   "metadata": {},
   "outputs": [],
   "source": [
    "needed_cols = ['icgc_mutation_id',\n",
    "  'icgc_donor_id',\n",
    "  'icgc_sample_id',\n",
    "  'matched_icgc_sample_id',\n",
    "  'submitted_sample_id',\n",
    "  'submitted_matched_sample_id',\n",
    "  'chromosome',\n",
    "  'chromosome_start',\n",
    "  'chromosome_end',\n",
    "  'chromosome_strand',\n",
    "  'assembly_version',\n",
    "  'mutation_type',\n",
    "  'reference_genome_allele',\n",
    "  'mutated_from_allele',\n",
    "  'mutated_to_allele',\n",
    "  'total_read_count',\n",
    "  'mutant_allele_read_count',\n",
    "  'consequence_type',\n",
    "  'aa_mutation',\n",
    "  'cds_mutation',\n",
    "  'gene_affected',\n",
    "  'transcript_affected',\n",
    "  'gene_build_version',\n",
    "  'seq_coverage',\n",
    "  'raw_data_repository',\n",
    "  'raw_data_accession',\n",
    "]"
   ]
  },
  {
   "cell_type": "code",
   "execution_count": 18,
   "id": "5cb7ca9f-0183-4300-a08e-45b8e213e8f9",
   "metadata": {},
   "outputs": [],
   "source": [
    "pl.scan_csv(\n",
    "    \"./sigprof/input/simple_somatic_mutation_sbs.tsv\", separator=\"\\t\", infer_schema_length=10_000\n",
    ").rename(\n",
    "    {\"icgc_sample_id\": \"analyzed_sample_id\"}\n",
    ").sink_csv(\n",
    "    \"./sigprof/input/simple_somatic_mutation_sbs_renamed.tsv\", separator=\"\\t\"\n",
    ")"
   ]
  },
  {
   "cell_type": "markdown",
   "id": "5660979d-b1a0-4b04-815b-d1bbeddab68b",
   "metadata": {},
   "source": [
    "### Try to extract count matrices using out-of-the-box functions from SigProfiler"
   ]
  },
  {
   "cell_type": "code",
   "execution_count": 6,
   "id": "40ec092a-5a8e-42f9-9d30-c5094b92aa2a",
   "metadata": {},
   "outputs": [
    {
     "data": {
      "text/html": [
       "<div><style>\n",
       ".dataframe > thead > tr,\n",
       ".dataframe > tbody > tr {\n",
       "  text-align: right;\n",
       "  white-space: pre-wrap;\n",
       "}\n",
       "</style>\n",
       "<small>shape: (5, 42)</small><table border=\"1\" class=\"dataframe\"><thead><tr><th>icgc_mutation_id</th><th>icgc_donor_id</th><th>project_code</th><th>icgc_specimen_id</th><th>icgc_sample_id</th><th>matched_icgc_sample_id</th><th>submitted_sample_id</th><th>submitted_matched_sample_id</th><th>chromosome</th><th>chromosome_start</th><th>chromosome_end</th><th>chromosome_strand</th><th>assembly_version</th><th>mutation_type</th><th>reference_genome_allele</th><th>mutated_from_allele</th><th>mutated_to_allele</th><th>quality_score</th><th>probability</th><th>total_read_count</th><th>mutant_allele_read_count</th><th>verification_status</th><th>verification_platform</th><th>biological_validation_status</th><th>biological_validation_platform</th><th>consequence_type</th><th>aa_mutation</th><th>cds_mutation</th><th>gene_affected</th><th>transcript_affected</th><th>gene_build_version</th><th>platform</th><th>experimental_protocol</th><th>sequencing_strategy</th><th>base_calling_algorithm</th><th>alignment_algorithm</th><th>variation_calling_algorithm</th><th>other_analysis_algorithm</th><th>seq_coverage</th><th>raw_data_repository</th><th>raw_data_accession</th><th>initial_data_release_date</th></tr><tr><td>str</td><td>str</td><td>str</td><td>str</td><td>str</td><td>str</td><td>str</td><td>str</td><td>str</td><td>i64</td><td>i64</td><td>i64</td><td>str</td><td>str</td><td>str</td><td>str</td><td>str</td><td>str</td><td>str</td><td>i64</td><td>i64</td><td>str</td><td>str</td><td>str</td><td>str</td><td>str</td><td>str</td><td>str</td><td>str</td><td>str</td><td>i64</td><td>str</td><td>str</td><td>str</td><td>str</td><td>str</td><td>str</td><td>str</td><td>str</td><td>str</td><td>str</td><td>str</td></tr></thead><tbody><tr><td>&quot;MU55281056&quot;</td><td>&quot;DO218489&quot;</td><td>&quot;BRCA-EU&quot;</td><td>&quot;SP117710&quot;</td><td>&quot;SA543682&quot;</td><td>&quot;SA545080&quot;</td><td>&quot;PD8623a&quot;</td><td>&quot;PD8623b&quot;</td><td>&quot;15&quot;</td><td>24985486</td><td>24985486</td><td>1</td><td>&quot;GRCh37&quot;</td><td>&quot;single base su…</td><td>&quot;G&quot;</td><td>&quot;G&quot;</td><td>&quot;A&quot;</td><td>null</td><td>null</td><td>null</td><td>null</td><td>&quot;tested and ver…</td><td>&quot;capillary sequ…</td><td>&quot;tested and val…</td><td>&quot;capillary sequ…</td><td>&quot;intergenic_reg…</td><td>null</td><td>null</td><td>null</td><td>null</td><td>75</td><td>&quot;Illumina GA se…</td><td>null</td><td>&quot;WGS&quot;</td><td>null</td><td>&quot;BWA v0.5.9 htt…</td><td>&quot;CaVEMan http:/…</td><td>null</td><td>null</td><td>&quot;EGA&quot;</td><td>&quot;EGAS0000100119…</td><td>null</td></tr><tr><td>&quot;MU55281056&quot;</td><td>&quot;DO218489&quot;</td><td>&quot;BRCA-EU&quot;</td><td>&quot;SP117710&quot;</td><td>&quot;SA543682&quot;</td><td>&quot;SA545080&quot;</td><td>&quot;PD8623a&quot;</td><td>&quot;PD8623b&quot;</td><td>&quot;15&quot;</td><td>24985486</td><td>24985486</td><td>1</td><td>&quot;GRCh37&quot;</td><td>&quot;single base su…</td><td>&quot;G&quot;</td><td>&quot;G&quot;</td><td>&quot;A&quot;</td><td>null</td><td>null</td><td>57</td><td>6</td><td>&quot;not tested&quot;</td><td>null</td><td>null</td><td>null</td><td>&quot;intergenic_reg…</td><td>null</td><td>null</td><td>null</td><td>null</td><td>75</td><td>&quot;Illumina HiSeq…</td><td>null</td><td>&quot;WGS&quot;</td><td>null</td><td>null</td><td>&quot;PCAWG Consensu…</td><td>null</td><td>null</td><td>null</td><td>&quot;FI36651:FI3665…</td><td>null</td></tr><tr><td>&quot;MU50780316&quot;</td><td>&quot;DO218489&quot;</td><td>&quot;BRCA-EU&quot;</td><td>&quot;SP117710&quot;</td><td>&quot;SA543682&quot;</td><td>&quot;SA545080&quot;</td><td>&quot;PD8623a&quot;</td><td>&quot;PD8623b&quot;</td><td>&quot;3&quot;</td><td>19778034</td><td>19778034</td><td>1</td><td>&quot;GRCh37&quot;</td><td>&quot;single base su…</td><td>&quot;G&quot;</td><td>&quot;G&quot;</td><td>&quot;A&quot;</td><td>null</td><td>null</td><td>84</td><td>5</td><td>&quot;not tested&quot;</td><td>null</td><td>null</td><td>null</td><td>&quot;intergenic_reg…</td><td>null</td><td>null</td><td>null</td><td>null</td><td>75</td><td>&quot;Illumina HiSeq…</td><td>null</td><td>&quot;WGS&quot;</td><td>null</td><td>null</td><td>&quot;PCAWG Consensu…</td><td>null</td><td>null</td><td>null</td><td>&quot;FI36651:FI3665…</td><td>null</td></tr><tr><td>&quot;MU63478103&quot;</td><td>&quot;DO218489&quot;</td><td>&quot;BRCA-EU&quot;</td><td>&quot;SP117710&quot;</td><td>&quot;SA543682&quot;</td><td>&quot;SA545080&quot;</td><td>&quot;PD8623a&quot;</td><td>&quot;PD8623b&quot;</td><td>&quot;1&quot;</td><td>247616560</td><td>247616560</td><td>1</td><td>&quot;GRCh37&quot;</td><td>&quot;single base su…</td><td>&quot;C&quot;</td><td>&quot;C&quot;</td><td>&quot;T&quot;</td><td>null</td><td>null</td><td>64</td><td>10</td><td>&quot;not tested&quot;</td><td>null</td><td>null</td><td>null</td><td>&quot;downstream_gen…</td><td>null</td><td>null</td><td>&quot;ENSG0000016271…</td><td>&quot;ENST0000053208…</td><td>75</td><td>&quot;Illumina HiSeq…</td><td>null</td><td>&quot;WGS&quot;</td><td>null</td><td>null</td><td>&quot;PCAWG Consensu…</td><td>null</td><td>null</td><td>null</td><td>&quot;FI36651:FI3665…</td><td>null</td></tr><tr><td>&quot;MU63478103&quot;</td><td>&quot;DO218489&quot;</td><td>&quot;BRCA-EU&quot;</td><td>&quot;SP117710&quot;</td><td>&quot;SA543682&quot;</td><td>&quot;SA545080&quot;</td><td>&quot;PD8623a&quot;</td><td>&quot;PD8623b&quot;</td><td>&quot;1&quot;</td><td>247616560</td><td>247616560</td><td>1</td><td>&quot;GRCh37&quot;</td><td>&quot;single base su…</td><td>&quot;C&quot;</td><td>&quot;C&quot;</td><td>&quot;T&quot;</td><td>null</td><td>null</td><td>64</td><td>10</td><td>&quot;not tested&quot;</td><td>null</td><td>null</td><td>null</td><td>&quot;intergenic_reg…</td><td>null</td><td>null</td><td>null</td><td>null</td><td>75</td><td>&quot;Illumina HiSeq…</td><td>null</td><td>&quot;WGS&quot;</td><td>null</td><td>null</td><td>&quot;PCAWG Consensu…</td><td>null</td><td>null</td><td>null</td><td>&quot;FI36651:FI3665…</td><td>null</td></tr></tbody></table></div>"
      ],
      "text/plain": [
       "shape: (5, 42)\n",
       "┌───────────┬───────────┬───────────┬───────────┬───┬───────────┬───────────┬───────────┬──────────┐\n",
       "│ icgc_muta ┆ icgc_dono ┆ project_c ┆ icgc_spec ┆ … ┆ seq_cover ┆ raw_data_ ┆ raw_data_ ┆ initial_ │\n",
       "│ tion_id   ┆ r_id      ┆ ode       ┆ imen_id   ┆   ┆ age       ┆ repositor ┆ accession ┆ data_rel │\n",
       "│ ---       ┆ ---       ┆ ---       ┆ ---       ┆   ┆ ---       ┆ y         ┆ ---       ┆ ease_dat │\n",
       "│ str       ┆ str       ┆ str       ┆ str       ┆   ┆ str       ┆ ---       ┆ str       ┆ e        │\n",
       "│           ┆           ┆           ┆           ┆   ┆           ┆ str       ┆           ┆ ---      │\n",
       "│           ┆           ┆           ┆           ┆   ┆           ┆           ┆           ┆ str      │\n",
       "╞═══════════╪═══════════╪═══════════╪═══════════╪═══╪═══════════╪═══════════╪═══════════╪══════════╡\n",
       "│ MU5528105 ┆ DO218489  ┆ BRCA-EU   ┆ SP117710  ┆ … ┆ null      ┆ EGA       ┆ EGAS00001 ┆ null     │\n",
       "│ 6         ┆           ┆           ┆           ┆   ┆           ┆           ┆ 001195    ┆          │\n",
       "│ MU5528105 ┆ DO218489  ┆ BRCA-EU   ┆ SP117710  ┆ … ┆ null      ┆ null      ┆ FI36651:F ┆ null     │\n",
       "│ 6         ┆           ┆           ┆           ┆   ┆           ┆           ┆ I36650    ┆          │\n",
       "│ MU5078031 ┆ DO218489  ┆ BRCA-EU   ┆ SP117710  ┆ … ┆ null      ┆ null      ┆ FI36651:F ┆ null     │\n",
       "│ 6         ┆           ┆           ┆           ┆   ┆           ┆           ┆ I36650    ┆          │\n",
       "│ MU6347810 ┆ DO218489  ┆ BRCA-EU   ┆ SP117710  ┆ … ┆ null      ┆ null      ┆ FI36651:F ┆ null     │\n",
       "│ 3         ┆           ┆           ┆           ┆   ┆           ┆           ┆ I36650    ┆          │\n",
       "│ MU6347810 ┆ DO218489  ┆ BRCA-EU   ┆ SP117710  ┆ … ┆ null      ┆ null      ┆ FI36651:F ┆ null     │\n",
       "│ 3         ┆           ┆           ┆           ┆   ┆           ┆           ┆ I36650    ┆          │\n",
       "└───────────┴───────────┴───────────┴───────────┴───┴───────────┴───────────┴───────────┴──────────┘"
      ]
     },
     "execution_count": 6,
     "metadata": {},
     "output_type": "execute_result"
    }
   ],
   "source": [
    "df = pl.read_csv(\"data/counts/simple_somatic_mutation.open.BRCA-EU.tsv\", separator=\"\\t\", infer_schema_length=10_000, low_memory=True)\n",
    "df.head()"
   ]
  },
  {
   "cell_type": "code",
   "execution_count": 27,
   "id": "ce923eda-dc40-4fbb-81c5-17fcc153e485",
   "metadata": {},
   "outputs": [
    {
     "data": {
      "text/html": [
       "<div><style>\n",
       ".dataframe > thead > tr,\n",
       ".dataframe > tbody > tr {\n",
       "  text-align: right;\n",
       "  white-space: pre-wrap;\n",
       "}\n",
       "</style>\n",
       "<small>shape: (969_536, 42)</small><table border=\"1\" class=\"dataframe\"><thead><tr><th>icgc_mutation_id</th><th>icgc_donor_id</th><th>project_code</th><th>icgc_specimen_id</th><th>icgc_sample_id</th><th>matched_icgc_sample_id</th><th>submitted_sample_id</th><th>submitted_matched_sample_id</th><th>chromosome</th><th>chromosome_start</th><th>chromosome_end</th><th>chromosome_strand</th><th>assembly_version</th><th>mutation_type</th><th>reference_genome_allele</th><th>mutated_from_allele</th><th>mutated_to_allele</th><th>quality_score</th><th>probability</th><th>total_read_count</th><th>mutant_allele_read_count</th><th>verification_status</th><th>verification_platform</th><th>biological_validation_status</th><th>biological_validation_platform</th><th>consequence_type</th><th>aa_mutation</th><th>cds_mutation</th><th>gene_affected</th><th>transcript_affected</th><th>gene_build_version</th><th>platform</th><th>experimental_protocol</th><th>sequencing_strategy</th><th>base_calling_algorithm</th><th>alignment_algorithm</th><th>variation_calling_algorithm</th><th>other_analysis_algorithm</th><th>seq_coverage</th><th>raw_data_repository</th><th>raw_data_accession</th><th>initial_data_release_date</th></tr><tr><td>str</td><td>str</td><td>str</td><td>str</td><td>str</td><td>str</td><td>str</td><td>str</td><td>str</td><td>i64</td><td>i64</td><td>i64</td><td>str</td><td>str</td><td>str</td><td>str</td><td>str</td><td>str</td><td>str</td><td>i64</td><td>i64</td><td>str</td><td>str</td><td>str</td><td>str</td><td>str</td><td>str</td><td>str</td><td>str</td><td>str</td><td>i64</td><td>str</td><td>str</td><td>str</td><td>str</td><td>str</td><td>str</td><td>str</td><td>str</td><td>str</td><td>str</td><td>str</td></tr></thead><tbody><tr><td>&quot;MU63946620&quot;</td><td>&quot;DO218489&quot;</td><td>&quot;BRCA-EU&quot;</td><td>&quot;SP117710&quot;</td><td>&quot;SA543682&quot;</td><td>&quot;SA545080&quot;</td><td>&quot;PD8623a&quot;</td><td>&quot;PD8623b&quot;</td><td>&quot;1&quot;</td><td>7283964</td><td>7283964</td><td>1</td><td>&quot;GRCh37&quot;</td><td>&quot;deletion of &lt;=…</td><td>&quot;C&quot;</td><td>&quot;C&quot;</td><td>&quot;-&quot;</td><td>null</td><td>null</td><td>null</td><td>null</td><td>&quot;not tested&quot;</td><td>null</td><td>&quot;not tested&quot;</td><td>null</td><td>&quot;intron_variant…</td><td>null</td><td>null</td><td>&quot;ENSG0000017173…</td><td>&quot;ENST0000030363…</td><td>75</td><td>&quot;Illumina GA se…</td><td>null</td><td>&quot;WGS&quot;</td><td>null</td><td>&quot;BWA v0.5.9 htt…</td><td>&quot;Pindel version…</td><td>null</td><td>null</td><td>&quot;EGA&quot;</td><td>&quot;EGAS0000100119…</td><td>null</td></tr><tr><td>&quot;MU63946620&quot;</td><td>&quot;DO218489&quot;</td><td>&quot;BRCA-EU&quot;</td><td>&quot;SP117710&quot;</td><td>&quot;SA543682&quot;</td><td>&quot;SA545080&quot;</td><td>&quot;PD8623a&quot;</td><td>&quot;PD8623b&quot;</td><td>&quot;1&quot;</td><td>7283964</td><td>7283964</td><td>1</td><td>&quot;GRCh37&quot;</td><td>&quot;deletion of &lt;=…</td><td>&quot;C&quot;</td><td>&quot;C&quot;</td><td>&quot;-&quot;</td><td>null</td><td>null</td><td>null</td><td>null</td><td>&quot;not tested&quot;</td><td>null</td><td>&quot;not tested&quot;</td><td>null</td><td>&quot;downstream_gen…</td><td>null</td><td>null</td><td>&quot;ENSG0000020705…</td><td>&quot;ENST0000038432…</td><td>75</td><td>&quot;Illumina GA se…</td><td>null</td><td>&quot;WGS&quot;</td><td>null</td><td>&quot;BWA v0.5.9 htt…</td><td>&quot;Pindel version…</td><td>null</td><td>null</td><td>&quot;EGA&quot;</td><td>&quot;EGAS0000100119…</td><td>null</td></tr><tr><td>&quot;MU63946620&quot;</td><td>&quot;DO218489&quot;</td><td>&quot;BRCA-EU&quot;</td><td>&quot;SP117710&quot;</td><td>&quot;SA543682&quot;</td><td>&quot;SA545080&quot;</td><td>&quot;PD8623a&quot;</td><td>&quot;PD8623b&quot;</td><td>&quot;1&quot;</td><td>7283964</td><td>7283964</td><td>1</td><td>&quot;GRCh37&quot;</td><td>&quot;deletion of &lt;=…</td><td>&quot;C&quot;</td><td>&quot;C&quot;</td><td>&quot;-&quot;</td><td>null</td><td>null</td><td>null</td><td>null</td><td>&quot;not tested&quot;</td><td>null</td><td>&quot;not tested&quot;</td><td>null</td><td>&quot;intron_variant…</td><td>null</td><td>null</td><td>&quot;ENSG0000017173…</td><td>&quot;ENST0000043941…</td><td>75</td><td>&quot;Illumina GA se…</td><td>null</td><td>&quot;WGS&quot;</td><td>null</td><td>&quot;BWA v0.5.9 htt…</td><td>&quot;Pindel version…</td><td>null</td><td>null</td><td>&quot;EGA&quot;</td><td>&quot;EGAS0000100119…</td><td>null</td></tr><tr><td>&quot;MU63946620&quot;</td><td>&quot;DO218489&quot;</td><td>&quot;BRCA-EU&quot;</td><td>&quot;SP117710&quot;</td><td>&quot;SA543682&quot;</td><td>&quot;SA545080&quot;</td><td>&quot;PD8623a&quot;</td><td>&quot;PD8623b&quot;</td><td>&quot;1&quot;</td><td>7283964</td><td>7283964</td><td>1</td><td>&quot;GRCh37&quot;</td><td>&quot;deletion of &lt;=…</td><td>&quot;C&quot;</td><td>&quot;C&quot;</td><td>&quot;-&quot;</td><td>null</td><td>null</td><td>54</td><td>10</td><td>&quot;not tested&quot;</td><td>null</td><td>null</td><td>null</td><td>&quot;intron_variant…</td><td>null</td><td>null</td><td>&quot;ENSG0000017173…</td><td>&quot;ENST0000030363…</td><td>75</td><td>&quot;Illumina HiSeq…</td><td>null</td><td>&quot;WGS&quot;</td><td>null</td><td>null</td><td>&quot;PCAWG Consensu…</td><td>null</td><td>null</td><td>null</td><td>&quot;FI36651:FI3665…</td><td>null</td></tr><tr><td>&quot;MU63946620&quot;</td><td>&quot;DO218489&quot;</td><td>&quot;BRCA-EU&quot;</td><td>&quot;SP117710&quot;</td><td>&quot;SA543682&quot;</td><td>&quot;SA545080&quot;</td><td>&quot;PD8623a&quot;</td><td>&quot;PD8623b&quot;</td><td>&quot;1&quot;</td><td>7283964</td><td>7283964</td><td>1</td><td>&quot;GRCh37&quot;</td><td>&quot;deletion of &lt;=…</td><td>&quot;C&quot;</td><td>&quot;C&quot;</td><td>&quot;-&quot;</td><td>null</td><td>null</td><td>54</td><td>10</td><td>&quot;not tested&quot;</td><td>null</td><td>null</td><td>null</td><td>&quot;downstream_gen…</td><td>null</td><td>null</td><td>&quot;ENSG0000020705…</td><td>&quot;ENST0000038432…</td><td>75</td><td>&quot;Illumina HiSeq…</td><td>null</td><td>&quot;WGS&quot;</td><td>null</td><td>null</td><td>&quot;PCAWG Consensu…</td><td>null</td><td>null</td><td>null</td><td>&quot;FI36651:FI3665…</td><td>null</td></tr><tr><td>&quot;MU63946620&quot;</td><td>&quot;DO218489&quot;</td><td>&quot;BRCA-EU&quot;</td><td>&quot;SP117710&quot;</td><td>&quot;SA543682&quot;</td><td>&quot;SA545080&quot;</td><td>&quot;PD8623a&quot;</td><td>&quot;PD8623b&quot;</td><td>&quot;1&quot;</td><td>7283964</td><td>7283964</td><td>1</td><td>&quot;GRCh37&quot;</td><td>&quot;deletion of &lt;=…</td><td>&quot;C&quot;</td><td>&quot;C&quot;</td><td>&quot;-&quot;</td><td>null</td><td>null</td><td>54</td><td>10</td><td>&quot;not tested&quot;</td><td>null</td><td>null</td><td>null</td><td>&quot;intron_variant…</td><td>null</td><td>null</td><td>&quot;ENSG0000017173…</td><td>&quot;ENST0000043941…</td><td>75</td><td>&quot;Illumina HiSeq…</td><td>null</td><td>&quot;WGS&quot;</td><td>null</td><td>null</td><td>&quot;PCAWG Consensu…</td><td>null</td><td>null</td><td>null</td><td>&quot;FI36651:FI3665…</td><td>null</td></tr><tr><td>&quot;MU63946631&quot;</td><td>&quot;DO218489&quot;</td><td>&quot;BRCA-EU&quot;</td><td>&quot;SP117710&quot;</td><td>&quot;SA543682&quot;</td><td>&quot;SA545080&quot;</td><td>&quot;PD8623a&quot;</td><td>&quot;PD8623b&quot;</td><td>&quot;1&quot;</td><td>17633912</td><td>17633914</td><td>1</td><td>&quot;GRCh37&quot;</td><td>&quot;deletion of &lt;=…</td><td>&quot;TAT&quot;</td><td>&quot;TAT&quot;</td><td>&quot;-&quot;</td><td>null</td><td>null</td><td>null</td><td>null</td><td>&quot;not tested&quot;</td><td>null</td><td>&quot;not tested&quot;</td><td>null</td><td>&quot;intergenic_reg…</td><td>null</td><td>null</td><td>null</td><td>null</td><td>75</td><td>&quot;Illumina GA se…</td><td>null</td><td>&quot;WGS&quot;</td><td>null</td><td>&quot;BWA v0.5.9 htt…</td><td>&quot;Pindel version…</td><td>null</td><td>null</td><td>&quot;EGA&quot;</td><td>&quot;EGAS0000100119…</td><td>null</td></tr><tr><td>&quot;MU63946631&quot;</td><td>&quot;DO218489&quot;</td><td>&quot;BRCA-EU&quot;</td><td>&quot;SP117710&quot;</td><td>&quot;SA543682&quot;</td><td>&quot;SA545080&quot;</td><td>&quot;PD8623a&quot;</td><td>&quot;PD8623b&quot;</td><td>&quot;1&quot;</td><td>17633912</td><td>17633914</td><td>1</td><td>&quot;GRCh37&quot;</td><td>&quot;deletion of &lt;=…</td><td>&quot;TAT&quot;</td><td>&quot;TAT&quot;</td><td>&quot;-&quot;</td><td>null</td><td>null</td><td>null</td><td>null</td><td>&quot;not tested&quot;</td><td>null</td><td>&quot;not tested&quot;</td><td>null</td><td>&quot;upstream_gene_…</td><td>null</td><td>null</td><td>&quot;ENSG0000015933…</td><td>&quot;ENST0000037545…</td><td>75</td><td>&quot;Illumina GA se…</td><td>null</td><td>&quot;WGS&quot;</td><td>null</td><td>&quot;BWA v0.5.9 htt…</td><td>&quot;Pindel version…</td><td>null</td><td>null</td><td>&quot;EGA&quot;</td><td>&quot;EGAS0000100119…</td><td>null</td></tr><tr><td>&quot;MU63946631&quot;</td><td>&quot;DO218489&quot;</td><td>&quot;BRCA-EU&quot;</td><td>&quot;SP117710&quot;</td><td>&quot;SA543682&quot;</td><td>&quot;SA545080&quot;</td><td>&quot;PD8623a&quot;</td><td>&quot;PD8623b&quot;</td><td>&quot;1&quot;</td><td>17633912</td><td>17633914</td><td>1</td><td>&quot;GRCh37&quot;</td><td>&quot;deletion of &lt;=…</td><td>&quot;TAT&quot;</td><td>&quot;TAT&quot;</td><td>&quot;-&quot;</td><td>null</td><td>null</td><td>null</td><td>null</td><td>&quot;not tested&quot;</td><td>null</td><td>&quot;not tested&quot;</td><td>null</td><td>&quot;upstream_gene_…</td><td>null</td><td>null</td><td>&quot;ENSG0000015933…</td><td>&quot;ENST0000037544…</td><td>75</td><td>&quot;Illumina GA se…</td><td>null</td><td>&quot;WGS&quot;</td><td>null</td><td>&quot;BWA v0.5.9 htt…</td><td>&quot;Pindel version…</td><td>null</td><td>null</td><td>&quot;EGA&quot;</td><td>&quot;EGAS0000100119…</td><td>null</td></tr><tr><td>&quot;MU63946631&quot;</td><td>&quot;DO218489&quot;</td><td>&quot;BRCA-EU&quot;</td><td>&quot;SP117710&quot;</td><td>&quot;SA543682&quot;</td><td>&quot;SA545080&quot;</td><td>&quot;PD8623a&quot;</td><td>&quot;PD8623b&quot;</td><td>&quot;1&quot;</td><td>17633912</td><td>17633914</td><td>1</td><td>&quot;GRCh37&quot;</td><td>&quot;deletion of &lt;=…</td><td>&quot;TAT&quot;</td><td>&quot;TAT&quot;</td><td>&quot;-&quot;</td><td>null</td><td>null</td><td>60</td><td>8</td><td>&quot;not tested&quot;</td><td>null</td><td>null</td><td>null</td><td>&quot;intergenic_reg…</td><td>null</td><td>null</td><td>null</td><td>null</td><td>75</td><td>&quot;Illumina HiSeq…</td><td>null</td><td>&quot;WGS&quot;</td><td>null</td><td>null</td><td>&quot;PCAWG Consensu…</td><td>null</td><td>null</td><td>null</td><td>&quot;FI36651:FI3665…</td><td>null</td></tr><tr><td>&quot;MU63946631&quot;</td><td>&quot;DO218489&quot;</td><td>&quot;BRCA-EU&quot;</td><td>&quot;SP117710&quot;</td><td>&quot;SA543682&quot;</td><td>&quot;SA545080&quot;</td><td>&quot;PD8623a&quot;</td><td>&quot;PD8623b&quot;</td><td>&quot;1&quot;</td><td>17633912</td><td>17633914</td><td>1</td><td>&quot;GRCh37&quot;</td><td>&quot;deletion of &lt;=…</td><td>&quot;TAT&quot;</td><td>&quot;TAT&quot;</td><td>&quot;-&quot;</td><td>null</td><td>null</td><td>60</td><td>8</td><td>&quot;not tested&quot;</td><td>null</td><td>null</td><td>null</td><td>&quot;upstream_gene_…</td><td>null</td><td>null</td><td>&quot;ENSG0000015933…</td><td>&quot;ENST0000037545…</td><td>75</td><td>&quot;Illumina HiSeq…</td><td>null</td><td>&quot;WGS&quot;</td><td>null</td><td>null</td><td>&quot;PCAWG Consensu…</td><td>null</td><td>null</td><td>null</td><td>&quot;FI36651:FI3665…</td><td>null</td></tr><tr><td>&quot;MU63946631&quot;</td><td>&quot;DO218489&quot;</td><td>&quot;BRCA-EU&quot;</td><td>&quot;SP117710&quot;</td><td>&quot;SA543682&quot;</td><td>&quot;SA545080&quot;</td><td>&quot;PD8623a&quot;</td><td>&quot;PD8623b&quot;</td><td>&quot;1&quot;</td><td>17633912</td><td>17633914</td><td>1</td><td>&quot;GRCh37&quot;</td><td>&quot;deletion of &lt;=…</td><td>&quot;TAT&quot;</td><td>&quot;TAT&quot;</td><td>&quot;-&quot;</td><td>null</td><td>null</td><td>60</td><td>8</td><td>&quot;not tested&quot;</td><td>null</td><td>null</td><td>null</td><td>&quot;upstream_gene_…</td><td>null</td><td>null</td><td>&quot;ENSG0000015933…</td><td>&quot;ENST0000037544…</td><td>75</td><td>&quot;Illumina HiSeq…</td><td>null</td><td>&quot;WGS&quot;</td><td>null</td><td>null</td><td>&quot;PCAWG Consensu…</td><td>null</td><td>null</td><td>null</td><td>&quot;FI36651:FI3665…</td><td>null</td></tr><tr><td>&hellip;</td><td>&hellip;</td><td>&hellip;</td><td>&hellip;</td><td>&hellip;</td><td>&hellip;</td><td>&hellip;</td><td>&hellip;</td><td>&hellip;</td><td>&hellip;</td><td>&hellip;</td><td>&hellip;</td><td>&hellip;</td><td>&hellip;</td><td>&hellip;</td><td>&hellip;</td><td>&hellip;</td><td>&hellip;</td><td>&hellip;</td><td>&hellip;</td><td>&hellip;</td><td>&hellip;</td><td>&hellip;</td><td>&hellip;</td><td>&hellip;</td><td>&hellip;</td><td>&hellip;</td><td>&hellip;</td><td>&hellip;</td><td>&hellip;</td><td>&hellip;</td><td>&hellip;</td><td>&hellip;</td><td>&hellip;</td><td>&hellip;</td><td>&hellip;</td><td>&hellip;</td><td>&hellip;</td><td>&hellip;</td><td>&hellip;</td><td>&hellip;</td><td>&hellip;</td></tr><tr><td>&quot;MU63964807&quot;</td><td>&quot;DO218333&quot;</td><td>&quot;BRCA-EU&quot;</td><td>&quot;SP117538&quot;</td><td>&quot;SA543399&quot;</td><td>&quot;SA544917&quot;</td><td>&quot;PD9000a&quot;</td><td>&quot;PD9000b&quot;</td><td>&quot;X&quot;</td><td>146659263</td><td>146659268</td><td>1</td><td>&quot;GRCh37&quot;</td><td>&quot;deletion of &lt;=…</td><td>&quot;CAGGCA&quot;</td><td>&quot;CAGGCA&quot;</td><td>&quot;-&quot;</td><td>null</td><td>null</td><td>null</td><td>null</td><td>&quot;not tested&quot;</td><td>null</td><td>&quot;not tested&quot;</td><td>null</td><td>&quot;intergenic_reg…</td><td>null</td><td>null</td><td>null</td><td>null</td><td>75</td><td>&quot;Illumina GA se…</td><td>null</td><td>&quot;WGS&quot;</td><td>null</td><td>&quot;BWA v0.5.9 htt…</td><td>&quot;Pindel version…</td><td>null</td><td>null</td><td>&quot;EGA&quot;</td><td>&quot;EGAS0000100119…</td><td>null</td></tr><tr><td>&quot;MU63964807&quot;</td><td>&quot;DO218333&quot;</td><td>&quot;BRCA-EU&quot;</td><td>&quot;SP117538&quot;</td><td>&quot;SA543399&quot;</td><td>&quot;SA544917&quot;</td><td>&quot;PD9000a&quot;</td><td>&quot;PD9000b&quot;</td><td>&quot;X&quot;</td><td>146659263</td><td>146659268</td><td>1</td><td>&quot;GRCh37&quot;</td><td>&quot;deletion of &lt;=…</td><td>&quot;CAGGCA&quot;</td><td>&quot;CAGGCA&quot;</td><td>&quot;-&quot;</td><td>null</td><td>null</td><td>24</td><td>14</td><td>&quot;not tested&quot;</td><td>null</td><td>null</td><td>null</td><td>&quot;intergenic_reg…</td><td>null</td><td>null</td><td>null</td><td>null</td><td>75</td><td>&quot;Illumina HiSeq…</td><td>null</td><td>&quot;WGS&quot;</td><td>null</td><td>null</td><td>&quot;PCAWG Consensu…</td><td>null</td><td>null</td><td>null</td><td>&quot;FI27470:FI2746…</td><td>null</td></tr><tr><td>&quot;MU8637302&quot;</td><td>&quot;DO218333&quot;</td><td>&quot;BRCA-EU&quot;</td><td>&quot;SP117538&quot;</td><td>&quot;SA543399&quot;</td><td>&quot;SA544917&quot;</td><td>&quot;PD9000a&quot;</td><td>&quot;PD9000b&quot;</td><td>&quot;4&quot;</td><td>119220546</td><td>119220546</td><td>1</td><td>&quot;GRCh37&quot;</td><td>&quot;deletion of &lt;=…</td><td>&quot;T&quot;</td><td>&quot;T&quot;</td><td>&quot;-&quot;</td><td>null</td><td>null</td><td>null</td><td>null</td><td>&quot;not tested&quot;</td><td>null</td><td>&quot;not tested&quot;</td><td>null</td><td>&quot;upstream_gene_…</td><td>null</td><td>null</td><td>&quot;ENSG0000016409…</td><td>&quot;ENST0000051090…</td><td>75</td><td>&quot;Illumina GA se…</td><td>null</td><td>&quot;WGS&quot;</td><td>null</td><td>&quot;BWA v0.5.9 htt…</td><td>&quot;Pindel version…</td><td>null</td><td>null</td><td>&quot;EGA&quot;</td><td>&quot;EGAS0000100119…</td><td>null</td></tr><tr><td>&quot;MU8637302&quot;</td><td>&quot;DO218333&quot;</td><td>&quot;BRCA-EU&quot;</td><td>&quot;SP117538&quot;</td><td>&quot;SA543399&quot;</td><td>&quot;SA544917&quot;</td><td>&quot;PD9000a&quot;</td><td>&quot;PD9000b&quot;</td><td>&quot;4&quot;</td><td>119220546</td><td>119220546</td><td>1</td><td>&quot;GRCh37&quot;</td><td>&quot;deletion of &lt;=…</td><td>&quot;T&quot;</td><td>&quot;T&quot;</td><td>&quot;-&quot;</td><td>null</td><td>null</td><td>null</td><td>null</td><td>&quot;not tested&quot;</td><td>null</td><td>&quot;not tested&quot;</td><td>null</td><td>&quot;downstream_gen…</td><td>null</td><td>null</td><td>&quot;ENSG0000016409…</td><td>&quot;ENST0000051508…</td><td>75</td><td>&quot;Illumina GA se…</td><td>null</td><td>&quot;WGS&quot;</td><td>null</td><td>&quot;BWA v0.5.9 htt…</td><td>&quot;Pindel version…</td><td>null</td><td>null</td><td>&quot;EGA&quot;</td><td>&quot;EGAS0000100119…</td><td>null</td></tr><tr><td>&quot;MU8637302&quot;</td><td>&quot;DO218333&quot;</td><td>&quot;BRCA-EU&quot;</td><td>&quot;SP117538&quot;</td><td>&quot;SA543399&quot;</td><td>&quot;SA544917&quot;</td><td>&quot;PD9000a&quot;</td><td>&quot;PD9000b&quot;</td><td>&quot;4&quot;</td><td>119220546</td><td>119220546</td><td>1</td><td>&quot;GRCh37&quot;</td><td>&quot;deletion of &lt;=…</td><td>&quot;T&quot;</td><td>&quot;T&quot;</td><td>&quot;-&quot;</td><td>null</td><td>null</td><td>null</td><td>null</td><td>&quot;not tested&quot;</td><td>null</td><td>&quot;not tested&quot;</td><td>null</td><td>&quot;intron_variant…</td><td>null</td><td>null</td><td>&quot;ENSG0000016409…</td><td>&quot;ENST0000029649…</td><td>75</td><td>&quot;Illumina GA se…</td><td>null</td><td>&quot;WGS&quot;</td><td>null</td><td>&quot;BWA v0.5.9 htt…</td><td>&quot;Pindel version…</td><td>null</td><td>null</td><td>&quot;EGA&quot;</td><td>&quot;EGAS0000100119…</td><td>null</td></tr><tr><td>&quot;MU8637302&quot;</td><td>&quot;DO218333&quot;</td><td>&quot;BRCA-EU&quot;</td><td>&quot;SP117538&quot;</td><td>&quot;SA543399&quot;</td><td>&quot;SA544917&quot;</td><td>&quot;PD9000a&quot;</td><td>&quot;PD9000b&quot;</td><td>&quot;4&quot;</td><td>119220546</td><td>119220546</td><td>1</td><td>&quot;GRCh37&quot;</td><td>&quot;deletion of &lt;=…</td><td>&quot;T&quot;</td><td>&quot;T&quot;</td><td>&quot;-&quot;</td><td>null</td><td>null</td><td>64</td><td>31</td><td>&quot;not tested&quot;</td><td>null</td><td>null</td><td>null</td><td>&quot;upstream_gene_…</td><td>null</td><td>null</td><td>&quot;ENSG0000016409…</td><td>&quot;ENST0000051090…</td><td>75</td><td>&quot;Illumina HiSeq…</td><td>null</td><td>&quot;WGS&quot;</td><td>null</td><td>null</td><td>&quot;PCAWG Consensu…</td><td>null</td><td>null</td><td>null</td><td>&quot;FI27470:FI2746…</td><td>null</td></tr><tr><td>&quot;MU8637302&quot;</td><td>&quot;DO218333&quot;</td><td>&quot;BRCA-EU&quot;</td><td>&quot;SP117538&quot;</td><td>&quot;SA543399&quot;</td><td>&quot;SA544917&quot;</td><td>&quot;PD9000a&quot;</td><td>&quot;PD9000b&quot;</td><td>&quot;4&quot;</td><td>119220546</td><td>119220546</td><td>1</td><td>&quot;GRCh37&quot;</td><td>&quot;deletion of &lt;=…</td><td>&quot;T&quot;</td><td>&quot;T&quot;</td><td>&quot;-&quot;</td><td>null</td><td>null</td><td>64</td><td>31</td><td>&quot;not tested&quot;</td><td>null</td><td>null</td><td>null</td><td>&quot;downstream_gen…</td><td>null</td><td>null</td><td>&quot;ENSG0000016409…</td><td>&quot;ENST0000051508…</td><td>75</td><td>&quot;Illumina HiSeq…</td><td>null</td><td>&quot;WGS&quot;</td><td>null</td><td>null</td><td>&quot;PCAWG Consensu…</td><td>null</td><td>null</td><td>null</td><td>&quot;FI27470:FI2746…</td><td>null</td></tr><tr><td>&quot;MU8637302&quot;</td><td>&quot;DO218333&quot;</td><td>&quot;BRCA-EU&quot;</td><td>&quot;SP117538&quot;</td><td>&quot;SA543399&quot;</td><td>&quot;SA544917&quot;</td><td>&quot;PD9000a&quot;</td><td>&quot;PD9000b&quot;</td><td>&quot;4&quot;</td><td>119220546</td><td>119220546</td><td>1</td><td>&quot;GRCh37&quot;</td><td>&quot;deletion of &lt;=…</td><td>&quot;T&quot;</td><td>&quot;T&quot;</td><td>&quot;-&quot;</td><td>null</td><td>null</td><td>64</td><td>31</td><td>&quot;not tested&quot;</td><td>null</td><td>null</td><td>null</td><td>&quot;intron_variant…</td><td>null</td><td>null</td><td>&quot;ENSG0000016409…</td><td>&quot;ENST0000029649…</td><td>75</td><td>&quot;Illumina HiSeq…</td><td>null</td><td>&quot;WGS&quot;</td><td>null</td><td>null</td><td>&quot;PCAWG Consensu…</td><td>null</td><td>null</td><td>null</td><td>&quot;FI27470:FI2746…</td><td>null</td></tr><tr><td>&quot;MU9322072&quot;</td><td>&quot;DO218333&quot;</td><td>&quot;BRCA-EU&quot;</td><td>&quot;SP117538&quot;</td><td>&quot;SA543399&quot;</td><td>&quot;SA544917&quot;</td><td>&quot;PD9000a&quot;</td><td>&quot;PD9000b&quot;</td><td>&quot;15&quot;</td><td>20131621</td><td>20131621</td><td>1</td><td>&quot;GRCh37&quot;</td><td>&quot;deletion of &lt;=…</td><td>&quot;A&quot;</td><td>&quot;A&quot;</td><td>&quot;-&quot;</td><td>null</td><td>null</td><td>null</td><td>null</td><td>&quot;not tested&quot;</td><td>null</td><td>&quot;not tested&quot;</td><td>null</td><td>&quot;intergenic_reg…</td><td>null</td><td>null</td><td>null</td><td>null</td><td>75</td><td>&quot;Illumina GA se…</td><td>null</td><td>&quot;WGS&quot;</td><td>null</td><td>&quot;BWA v0.5.9 htt…</td><td>&quot;Pindel version…</td><td>null</td><td>null</td><td>&quot;EGA&quot;</td><td>&quot;EGAS0000100119…</td><td>null</td></tr><tr><td>&quot;MU9322072&quot;</td><td>&quot;DO218333&quot;</td><td>&quot;BRCA-EU&quot;</td><td>&quot;SP117538&quot;</td><td>&quot;SA543399&quot;</td><td>&quot;SA544917&quot;</td><td>&quot;PD9000a&quot;</td><td>&quot;PD9000b&quot;</td><td>&quot;15&quot;</td><td>20131621</td><td>20131621</td><td>1</td><td>&quot;GRCh37&quot;</td><td>&quot;deletion of &lt;=…</td><td>&quot;A&quot;</td><td>&quot;A&quot;</td><td>&quot;-&quot;</td><td>null</td><td>null</td><td>43</td><td>12</td><td>&quot;not tested&quot;</td><td>null</td><td>null</td><td>null</td><td>&quot;intergenic_reg…</td><td>null</td><td>null</td><td>null</td><td>null</td><td>75</td><td>&quot;Illumina HiSeq…</td><td>null</td><td>&quot;WGS&quot;</td><td>null</td><td>null</td><td>&quot;PCAWG Consensu…</td><td>null</td><td>null</td><td>null</td><td>&quot;FI27470:FI2746…</td><td>null</td></tr><tr><td>&quot;MU32447566&quot;</td><td>&quot;DO218333&quot;</td><td>&quot;BRCA-EU&quot;</td><td>&quot;SP117538&quot;</td><td>&quot;SA543399&quot;</td><td>&quot;SA544917&quot;</td><td>&quot;PD9000a&quot;</td><td>&quot;PD9000b&quot;</td><td>&quot;16&quot;</td><td>10804172</td><td>10804172</td><td>1</td><td>&quot;GRCh37&quot;</td><td>&quot;deletion of &lt;=…</td><td>&quot;T&quot;</td><td>&quot;T&quot;</td><td>&quot;-&quot;</td><td>null</td><td>null</td><td>null</td><td>null</td><td>&quot;not tested&quot;</td><td>null</td><td>&quot;not tested&quot;</td><td>null</td><td>&quot;intergenic_reg…</td><td>null</td><td>null</td><td>null</td><td>null</td><td>75</td><td>&quot;Illumina GA se…</td><td>null</td><td>&quot;WGS&quot;</td><td>null</td><td>&quot;BWA v0.5.9 htt…</td><td>&quot;Pindel version…</td><td>null</td><td>null</td><td>&quot;EGA&quot;</td><td>&quot;EGAS0000100119…</td><td>null</td></tr><tr><td>&quot;MU74383204&quot;</td><td>&quot;DO218333&quot;</td><td>&quot;BRCA-EU&quot;</td><td>&quot;SP117538&quot;</td><td>&quot;SA543399&quot;</td><td>&quot;SA544917&quot;</td><td>&quot;PD9000a&quot;</td><td>&quot;PD9000b&quot;</td><td>&quot;X&quot;</td><td>26431269</td><td>26431269</td><td>1</td><td>&quot;GRCh37&quot;</td><td>&quot;deletion of &lt;=…</td><td>&quot;G&quot;</td><td>&quot;G&quot;</td><td>&quot;-&quot;</td><td>null</td><td>null</td><td>48</td><td>14</td><td>&quot;not tested&quot;</td><td>null</td><td>null</td><td>null</td><td>&quot;intergenic_reg…</td><td>null</td><td>null</td><td>null</td><td>null</td><td>75</td><td>&quot;Illumina HiSeq…</td><td>null</td><td>&quot;WGS&quot;</td><td>null</td><td>null</td><td>&quot;PCAWG Consensu…</td><td>null</td><td>null</td><td>null</td><td>&quot;FI27470:FI2746…</td><td>null</td></tr></tbody></table></div>"
      ],
      "text/plain": [
       "shape: (969_536, 42)\n",
       "┌───────────┬───────────┬───────────┬───────────┬───┬───────────┬───────────┬───────────┬──────────┐\n",
       "│ icgc_muta ┆ icgc_dono ┆ project_c ┆ icgc_spec ┆ … ┆ seq_cover ┆ raw_data_ ┆ raw_data_ ┆ initial_ │\n",
       "│ tion_id   ┆ r_id      ┆ ode       ┆ imen_id   ┆   ┆ age       ┆ repositor ┆ accession ┆ data_rel │\n",
       "│ ---       ┆ ---       ┆ ---       ┆ ---       ┆   ┆ ---       ┆ y         ┆ ---       ┆ ease_dat │\n",
       "│ str       ┆ str       ┆ str       ┆ str       ┆   ┆ str       ┆ ---       ┆ str       ┆ e        │\n",
       "│           ┆           ┆           ┆           ┆   ┆           ┆ str       ┆           ┆ ---      │\n",
       "│           ┆           ┆           ┆           ┆   ┆           ┆           ┆           ┆ str      │\n",
       "╞═══════════╪═══════════╪═══════════╪═══════════╪═══╪═══════════╪═══════════╪═══════════╪══════════╡\n",
       "│ MU6394662 ┆ DO218489  ┆ BRCA-EU   ┆ SP117710  ┆ … ┆ null      ┆ EGA       ┆ EGAS00001 ┆ null     │\n",
       "│ 0         ┆           ┆           ┆           ┆   ┆           ┆           ┆ 001195    ┆          │\n",
       "│ MU6394662 ┆ DO218489  ┆ BRCA-EU   ┆ SP117710  ┆ … ┆ null      ┆ EGA       ┆ EGAS00001 ┆ null     │\n",
       "│ 0         ┆           ┆           ┆           ┆   ┆           ┆           ┆ 001195    ┆          │\n",
       "│ MU6394662 ┆ DO218489  ┆ BRCA-EU   ┆ SP117710  ┆ … ┆ null      ┆ EGA       ┆ EGAS00001 ┆ null     │\n",
       "│ 0         ┆           ┆           ┆           ┆   ┆           ┆           ┆ 001195    ┆          │\n",
       "│ MU6394662 ┆ DO218489  ┆ BRCA-EU   ┆ SP117710  ┆ … ┆ null      ┆ null      ┆ FI36651:F ┆ null     │\n",
       "│ 0         ┆           ┆           ┆           ┆   ┆           ┆           ┆ I36650    ┆          │\n",
       "│ …         ┆ …         ┆ …         ┆ …         ┆ … ┆ …         ┆ …         ┆ …         ┆ …        │\n",
       "│ MU9322072 ┆ DO218333  ┆ BRCA-EU   ┆ SP117538  ┆ … ┆ null      ┆ EGA       ┆ EGAS00001 ┆ null     │\n",
       "│           ┆           ┆           ┆           ┆   ┆           ┆           ┆ 001195    ┆          │\n",
       "│ MU9322072 ┆ DO218333  ┆ BRCA-EU   ┆ SP117538  ┆ … ┆ null      ┆ null      ┆ FI27470:F ┆ null     │\n",
       "│           ┆           ┆           ┆           ┆   ┆           ┆           ┆ I27469    ┆          │\n",
       "│ MU3244756 ┆ DO218333  ┆ BRCA-EU   ┆ SP117538  ┆ … ┆ null      ┆ EGA       ┆ EGAS00001 ┆ null     │\n",
       "│ 6         ┆           ┆           ┆           ┆   ┆           ┆           ┆ 001195    ┆          │\n",
       "│ MU7438320 ┆ DO218333  ┆ BRCA-EU   ┆ SP117538  ┆ … ┆ null      ┆ null      ┆ FI27470:F ┆ null     │\n",
       "│ 4         ┆           ┆           ┆           ┆   ┆           ┆           ┆ I27469    ┆          │\n",
       "└───────────┴───────────┴───────────┴───────────┴───┴───────────┴───────────┴───────────┴──────────┘"
      ]
     },
     "execution_count": 27,
     "metadata": {},
     "output_type": "execute_result"
    }
   ],
   "source": [
    "df.filter(pl.col(\"mutated_to_allele\") == \"-\")"
   ]
  },
  {
   "cell_type": "code",
   "execution_count": 20,
   "id": "494f93ab-c29e-4d86-9e05-4266f6a05a1f",
   "metadata": {},
   "outputs": [
    {
     "data": {
      "text/plain": [
       "(13831513, (13831513, 42))"
      ]
     },
     "execution_count": 20,
     "metadata": {},
     "output_type": "execute_result"
    }
   ],
   "source": [
    "(df[\"mutated_from_allele\"] == df[\"reference_genome_allele\"]).sum(), df.shape"
   ]
  },
  {
   "cell_type": "code",
   "execution_count": 25,
   "id": "9f67e67b-35c5-4de6-8e53-2bcaf74dd929",
   "metadata": {},
   "outputs": [
    {
     "name": "stdout",
     "output_type": "stream",
     "text": [
      "The given input files do not appear to be in the correct ICGC format.\n",
      "Starting matrix generation for SNVs and DINUCs...Completed! Elapsed time: 1.66 seconds.\n",
      "Matrices generated for 1 samples with 0 errors. Total of 7299 SNVs, 8 DINUCs, and 0 INDELs were successfully analyzed.\n"
     ]
    }
   ],
   "source": [
    "sigprof_matrices = matGen.SigProfilerMatrixGeneratorFunc(\n",
    "    project=\"sigprof\", \n",
    "    reference_genome=\"GRCh37\",\n",
    "    path_to_input_files=\"./sigprof/\"\n",
    ")"
   ]
  },
  {
   "cell_type": "code",
   "execution_count": 26,
   "id": "b0f0467d-5a70-4257-9ba0-910ee71df76b",
   "metadata": {},
   "outputs": [],
   "source": [
    "m = sigprof_matrices[\"96\"]"
   ]
  },
  {
   "cell_type": "code",
   "execution_count": 27,
   "id": "e6db72a9-8479-49a4-9f71-cca7b4a359ec",
   "metadata": {},
   "outputs": [
    {
     "data": {
      "text/html": [
       "<div>\n",
       "<style scoped>\n",
       "    .dataframe tbody tr th:only-of-type {\n",
       "        vertical-align: middle;\n",
       "    }\n",
       "\n",
       "    .dataframe tbody tr th {\n",
       "        vertical-align: top;\n",
       "    }\n",
       "\n",
       "    .dataframe thead th {\n",
       "        text-align: right;\n",
       "    }\n",
       "</style>\n",
       "<table border=\"1\" class=\"dataframe\">\n",
       "  <thead>\n",
       "    <tr style=\"text-align: right;\">\n",
       "      <th></th>\n",
       "      <th>DO218489</th>\n",
       "    </tr>\n",
       "    <tr>\n",
       "      <th>MutationType</th>\n",
       "      <th></th>\n",
       "    </tr>\n",
       "  </thead>\n",
       "  <tbody>\n",
       "    <tr>\n",
       "      <th>A[C&gt;A]A</th>\n",
       "      <td>49</td>\n",
       "    </tr>\n",
       "    <tr>\n",
       "      <th>A[C&gt;A]C</th>\n",
       "      <td>156</td>\n",
       "    </tr>\n",
       "    <tr>\n",
       "      <th>A[C&gt;A]G</th>\n",
       "      <td>5</td>\n",
       "    </tr>\n",
       "    <tr>\n",
       "      <th>A[C&gt;A]T</th>\n",
       "      <td>76</td>\n",
       "    </tr>\n",
       "    <tr>\n",
       "      <th>A[C&gt;G]A</th>\n",
       "      <td>42</td>\n",
       "    </tr>\n",
       "    <tr>\n",
       "      <th>...</th>\n",
       "      <td>...</td>\n",
       "    </tr>\n",
       "    <tr>\n",
       "      <th>T[T&gt;C]T</th>\n",
       "      <td>119</td>\n",
       "    </tr>\n",
       "    <tr>\n",
       "      <th>T[T&gt;G]A</th>\n",
       "      <td>66</td>\n",
       "    </tr>\n",
       "    <tr>\n",
       "      <th>T[T&gt;G]C</th>\n",
       "      <td>70</td>\n",
       "    </tr>\n",
       "    <tr>\n",
       "      <th>T[T&gt;G]G</th>\n",
       "      <td>34</td>\n",
       "    </tr>\n",
       "    <tr>\n",
       "      <th>T[T&gt;G]T</th>\n",
       "      <td>77</td>\n",
       "    </tr>\n",
       "  </tbody>\n",
       "</table>\n",
       "<p>96 rows × 1 columns</p>\n",
       "</div>"
      ],
      "text/plain": [
       "              DO218489\n",
       "MutationType          \n",
       "A[C>A]A             49\n",
       "A[C>A]C            156\n",
       "A[C>A]G              5\n",
       "A[C>A]T             76\n",
       "A[C>G]A             42\n",
       "...                ...\n",
       "T[T>C]T            119\n",
       "T[T>G]A             66\n",
       "T[T>G]C             70\n",
       "T[T>G]G             34\n",
       "T[T>G]T             77\n",
       "\n",
       "[96 rows x 1 columns]"
      ]
     },
     "execution_count": 27,
     "metadata": {},
     "output_type": "execute_result"
    }
   ],
   "source": [
    "m"
   ]
  },
  {
   "cell_type": "markdown",
   "id": "672c9177-0f67-4e63-8a0d-a5d72bcd4c0c",
   "metadata": {},
   "source": [
    "### Try to correctly use Alexandrov's tool for each patient subframe"
   ]
  },
  {
   "cell_type": "code",
   "execution_count": 4,
   "id": "d29796b4-42d8-438a-b334-a4bd559e695b",
   "metadata": {},
   "outputs": [],
   "source": [
    "df = pl.read_csv(\n",
    "    \"data/counts/simple_somatic_mutation.open.BRCA-EU.tsv\",\n",
    "    separator=\"\\t\",\n",
    "    infer_schema_length=10_000\n",
    ")"
   ]
  },
  {
   "cell_type": "code",
   "execution_count": 5,
   "id": "bdeb455e-4223-4a4a-9f19-a3f5ae523b9f",
   "metadata": {},
   "outputs": [
    {
     "data": {
      "text/plain": [
       "(13831513, 42)"
      ]
     },
     "execution_count": 5,
     "metadata": {},
     "output_type": "execute_result"
    }
   ],
   "source": [
    "df.shape"
   ]
  },
  {
   "cell_type": "code",
   "execution_count": 6,
   "id": "4dc26974-d415-4f1b-bb42-db60b81df9e2",
   "metadata": {},
   "outputs": [
    {
     "data": {
      "text/plain": [
       "569"
      ]
     },
     "execution_count": 6,
     "metadata": {},
     "output_type": "execute_result"
    }
   ],
   "source": [
    "df[\"icgc_donor_id\"].n_unique()"
   ]
  },
  {
   "cell_type": "code",
   "execution_count": 4,
   "id": "e80ac50c-2b5b-4290-ae04-b8a8b673646d",
   "metadata": {},
   "outputs": [
    {
     "ename": "AttributeError",
     "evalue": "'LazyFrame' object has no attribute 'partition_by'",
     "output_type": "error",
     "traceback": [
      "\u001b[0;31m---------------------------------------------------------------------------\u001b[0m",
      "\u001b[0;31mAttributeError\u001b[0m                            Traceback (most recent call last)",
      "Cell \u001b[0;32mIn[4], line 5\u001b[0m\n\u001b[1;32m      1\u001b[0m \u001b[38;5;28;01mfor\u001b[39;00m patient, subdf \u001b[38;5;129;01min\u001b[39;00m \u001b[43mpl\u001b[49m\u001b[38;5;241;43m.\u001b[39;49m\u001b[43mscan_csv\u001b[49m\u001b[43m(\u001b[49m\n\u001b[1;32m      2\u001b[0m \u001b[43m    \u001b[49m\u001b[38;5;124;43m\"\u001b[39;49m\u001b[38;5;124;43mdata/counts/simple_somatic_mutation.open.BRCA-EU.tsv\u001b[39;49m\u001b[38;5;124;43m\"\u001b[39;49m\u001b[43m,\u001b[49m\n\u001b[1;32m      3\u001b[0m \u001b[43m    \u001b[49m\u001b[43mseparator\u001b[49m\u001b[38;5;241;43m=\u001b[39;49m\u001b[38;5;124;43m\"\u001b[39;49m\u001b[38;5;130;43;01m\\t\u001b[39;49;00m\u001b[38;5;124;43m\"\u001b[39;49m\u001b[43m,\u001b[49m\n\u001b[1;32m      4\u001b[0m \u001b[43m    \u001b[49m\u001b[43minfer_schema_length\u001b[49m\u001b[38;5;241;43m=\u001b[39;49m\u001b[38;5;241;43m10_000\u001b[39;49m\n\u001b[0;32m----> 5\u001b[0m \u001b[43m)\u001b[49m\u001b[38;5;241;43m.\u001b[39;49m\u001b[43mpartition_by\u001b[49m(\u001b[38;5;124m\"\u001b[39m\u001b[38;5;124micgc_donor_id\u001b[39m\u001b[38;5;124m\"\u001b[39m, as_dict\u001b[38;5;241m=\u001b[39m\u001b[38;5;28;01mTrue\u001b[39;00m):\n\u001b[1;32m      6\u001b[0m     subdf\u001b[38;5;241m.\u001b[39msink_csv(\u001b[38;5;124mf\u001b[39m\u001b[38;5;124m\"\u001b[39m\u001b[38;5;124mtmp/simple_somatic_mutation.open.BRCA-EU-\u001b[39m\u001b[38;5;132;01m{\u001b[39;00mpatient\u001b[38;5;132;01m}\u001b[39;00m\u001b[38;5;124m.tsv\u001b[39m\u001b[38;5;124m\"\u001b[39m, separator\u001b[38;5;241m=\u001b[39m\u001b[38;5;124m\"\u001b[39m\u001b[38;5;130;01m\\t\u001b[39;00m\u001b[38;5;124m\"\u001b[39m)\n",
      "\u001b[0;31mAttributeError\u001b[0m: 'LazyFrame' object has no attribute 'partition_by'"
     ]
    }
   ],
   "source": [
    "for patient, subdf in df.partition_by(\"icgc_donor_id\", as_dict=True):\n",
    "    subdf.write_csv(f\"tmp/simple_somatic_mutation.open.BRCA-EU-{patient}.tsv\", separator=\"\\t\")"
   ]
  },
  {
   "cell_type": "code",
   "execution_count": 5,
   "id": "d4e375ba-0da4-4f6c-8a52-b7a49a7a44ea",
   "metadata": {},
   "outputs": [
    {
     "data": {
      "text/plain": [
       "\u001b[0;31mSignature:\u001b[0m\n",
       "\u001b[0mmatGen\u001b[0m\u001b[0;34m.\u001b[0m\u001b[0mSigProfilerMatrixGeneratorFunc\u001b[0m\u001b[0;34m(\u001b[0m\u001b[0;34m\u001b[0m\n",
       "\u001b[0;34m\u001b[0m    \u001b[0mproject\u001b[0m\u001b[0;34m,\u001b[0m\u001b[0;34m\u001b[0m\n",
       "\u001b[0;34m\u001b[0m    \u001b[0mreference_genome\u001b[0m\u001b[0;34m,\u001b[0m\u001b[0;34m\u001b[0m\n",
       "\u001b[0;34m\u001b[0m    \u001b[0mpath_to_input_files\u001b[0m\u001b[0;34m,\u001b[0m\u001b[0;34m\u001b[0m\n",
       "\u001b[0;34m\u001b[0m    \u001b[0mexome\u001b[0m\u001b[0;34m=\u001b[0m\u001b[0;32mFalse\u001b[0m\u001b[0;34m,\u001b[0m\u001b[0;34m\u001b[0m\n",
       "\u001b[0;34m\u001b[0m    \u001b[0mbed_file\u001b[0m\u001b[0;34m=\u001b[0m\u001b[0;32mNone\u001b[0m\u001b[0;34m,\u001b[0m\u001b[0;34m\u001b[0m\n",
       "\u001b[0;34m\u001b[0m    \u001b[0mchrom_based\u001b[0m\u001b[0;34m=\u001b[0m\u001b[0;32mFalse\u001b[0m\u001b[0;34m,\u001b[0m\u001b[0;34m\u001b[0m\n",
       "\u001b[0;34m\u001b[0m    \u001b[0mplot\u001b[0m\u001b[0;34m=\u001b[0m\u001b[0;32mFalse\u001b[0m\u001b[0;34m,\u001b[0m\u001b[0;34m\u001b[0m\n",
       "\u001b[0;34m\u001b[0m    \u001b[0mtsb_stat\u001b[0m\u001b[0;34m=\u001b[0m\u001b[0;32mFalse\u001b[0m\u001b[0;34m,\u001b[0m\u001b[0;34m\u001b[0m\n",
       "\u001b[0;34m\u001b[0m    \u001b[0mseqInfo\u001b[0m\u001b[0;34m=\u001b[0m\u001b[0;32mTrue\u001b[0m\u001b[0;34m,\u001b[0m\u001b[0;34m\u001b[0m\n",
       "\u001b[0;34m\u001b[0m    \u001b[0mcushion\u001b[0m\u001b[0;34m=\u001b[0m\u001b[0;36m100\u001b[0m\u001b[0;34m,\u001b[0m\u001b[0;34m\u001b[0m\n",
       "\u001b[0;34m\u001b[0m    \u001b[0mgs\u001b[0m\u001b[0;34m=\u001b[0m\u001b[0;32mFalse\u001b[0m\u001b[0;34m,\u001b[0m\u001b[0;34m\u001b[0m\n",
       "\u001b[0;34m\u001b[0m    \u001b[0mvolume\u001b[0m\u001b[0;34m=\u001b[0m\u001b[0;32mNone\u001b[0m\u001b[0;34m,\u001b[0m\u001b[0;34m\u001b[0m\n",
       "\u001b[0;34m\u001b[0m\u001b[0;34m)\u001b[0m\u001b[0;34m\u001b[0m\u001b[0;34m\u001b[0m\u001b[0m\n",
       "\u001b[0;31mDocstring:\u001b[0m\n",
       "Allows for the import of the sigProfilerMatrixGenerator.py function. Returns a dictionary\n",
       "with each context serving as the first level of keys.\n",
       "\n",
       "Parameters:\n",
       "                          project  -> unique name given to the current samples\n",
       "         reference_genome  -> reference genome\n",
       "  path_to_input_files  -> path where the input vcf files are located.\n",
       "                                exome  -> flag to use only the exome or not\n",
       "                         bed_file  -> BED file that contains a list of ranges to be used in generating the matrices\n",
       "                  chrom_based  -> flag to create the matrices on a per chromosome basis\n",
       "                                 plot  -> flag to generate the plots for each context\n",
       "                         tsb_stat  -> performs a transcriptional strand bias test for the 24, 384, and 6144 contexts. The output is\n",
       "                                                  saved into the output/TSB directory\n",
       "                                   gs  -> flag that performs a gene strand bias test\n",
       "\n",
       "Returns:\n",
       "                         matrices  -> dictionary (nested) of the matrices for each context\n",
       "\n",
       "        example:\n",
       "                matrices = {'96': {'PD1001a':{'A[A>C]A':23,\n",
       "                                                                         'A[A>G]A':10,...},\n",
       "                                                  'PD1202a':{'A[A>C]A':23,\n",
       "                                                                         'A[A>G]A':10,...},...},\n",
       "                                        '192':{'PD1001a':{'T:A[A>C]A':23,\n",
       "                                                                         'T:A[A>G]A':10,...},\n",
       "                                                  'PD1202a':{'T:A[A>C]A':23,\n",
       "                                                                         'T:A[A>G]A':10,...},...},...}\n",
       "\u001b[0;31mFile:\u001b[0m      ~/masters-mimuw/env/lib/python3.11/site-packages/SigProfilerMatrixGenerator/scripts/SigProfilerMatrixGeneratorFunc.py\n",
       "\u001b[0;31mType:\u001b[0m      function"
      ]
     },
     "metadata": {},
     "output_type": "display_data"
    }
   ],
   "source": [
    "?matGen.SigProfilerMatrixGeneratorFunc"
   ]
  },
  {
   "cell_type": "code",
   "execution_count": null,
   "id": "9f9fb4be-ba14-4600-a59f-51af0d13557c",
   "metadata": {},
   "outputs": [],
   "source": []
  },
  {
   "cell_type": "code",
   "execution_count": null,
   "id": "8681bed0-0d6c-416a-ac00-097622fb07a4",
   "metadata": {},
   "outputs": [],
   "source": []
  },
  {
   "cell_type": "code",
   "execution_count": 14,
   "id": "180642b1-5ebd-4028-8d2e-179bbecc0f21",
   "metadata": {},
   "outputs": [
    {
     "data": {
      "text/html": [
       "<div><style>\n",
       ".dataframe > thead > tr,\n",
       ".dataframe > tbody > tr {\n",
       "  text-align: right;\n",
       "  white-space: pre-wrap;\n",
       "}\n",
       "</style>\n",
       "<small>shape: (5, 26)</small><table border=\"1\" class=\"dataframe\"><thead><tr><th>icgc_mutation_id</th><th>icgc_donor_id</th><th>icgc_sample_id</th><th>matched_icgc_sample_id</th><th>submitted_sample_id</th><th>submitted_matched_sample_id</th><th>chromosome</th><th>chromosome_start</th><th>chromosome_end</th><th>chromosome_strand</th><th>assembly_version</th><th>mutation_type</th><th>reference_genome_allele</th><th>mutated_from_allele</th><th>mutated_to_allele</th><th>total_read_count</th><th>mutant_allele_read_count</th><th>consequence_type</th><th>aa_mutation</th><th>cds_mutation</th><th>gene_affected</th><th>transcript_affected</th><th>gene_build_version</th><th>seq_coverage</th><th>raw_data_repository</th><th>raw_data_accession</th></tr><tr><td>str</td><td>str</td><td>str</td><td>str</td><td>str</td><td>str</td><td>str</td><td>i64</td><td>i64</td><td>i64</td><td>str</td><td>str</td><td>str</td><td>str</td><td>str</td><td>i64</td><td>i64</td><td>str</td><td>str</td><td>str</td><td>str</td><td>str</td><td>i64</td><td>str</td><td>str</td><td>str</td></tr></thead><tbody><tr><td>&quot;MU55281056&quot;</td><td>&quot;DO218489&quot;</td><td>&quot;SA543682&quot;</td><td>&quot;SA545080&quot;</td><td>&quot;PD8623a&quot;</td><td>&quot;PD8623b&quot;</td><td>&quot;15&quot;</td><td>24985486</td><td>24985486</td><td>1</td><td>&quot;GRCh37&quot;</td><td>&quot;single base su…</td><td>&quot;G&quot;</td><td>&quot;G&quot;</td><td>&quot;A&quot;</td><td>null</td><td>null</td><td>&quot;intergenic_reg…</td><td>null</td><td>null</td><td>null</td><td>null</td><td>75</td><td>null</td><td>&quot;EGA&quot;</td><td>&quot;EGAS0000100119…</td></tr><tr><td>&quot;MU55281056&quot;</td><td>&quot;DO218489&quot;</td><td>&quot;SA543682&quot;</td><td>&quot;SA545080&quot;</td><td>&quot;PD8623a&quot;</td><td>&quot;PD8623b&quot;</td><td>&quot;15&quot;</td><td>24985486</td><td>24985486</td><td>1</td><td>&quot;GRCh37&quot;</td><td>&quot;single base su…</td><td>&quot;G&quot;</td><td>&quot;G&quot;</td><td>&quot;A&quot;</td><td>57</td><td>6</td><td>&quot;intergenic_reg…</td><td>null</td><td>null</td><td>null</td><td>null</td><td>75</td><td>null</td><td>null</td><td>&quot;FI36651:FI3665…</td></tr><tr><td>&quot;MU50780316&quot;</td><td>&quot;DO218489&quot;</td><td>&quot;SA543682&quot;</td><td>&quot;SA545080&quot;</td><td>&quot;PD8623a&quot;</td><td>&quot;PD8623b&quot;</td><td>&quot;3&quot;</td><td>19778034</td><td>19778034</td><td>1</td><td>&quot;GRCh37&quot;</td><td>&quot;single base su…</td><td>&quot;G&quot;</td><td>&quot;G&quot;</td><td>&quot;A&quot;</td><td>84</td><td>5</td><td>&quot;intergenic_reg…</td><td>null</td><td>null</td><td>null</td><td>null</td><td>75</td><td>null</td><td>null</td><td>&quot;FI36651:FI3665…</td></tr><tr><td>&quot;MU63478103&quot;</td><td>&quot;DO218489&quot;</td><td>&quot;SA543682&quot;</td><td>&quot;SA545080&quot;</td><td>&quot;PD8623a&quot;</td><td>&quot;PD8623b&quot;</td><td>&quot;1&quot;</td><td>247616560</td><td>247616560</td><td>1</td><td>&quot;GRCh37&quot;</td><td>&quot;single base su…</td><td>&quot;C&quot;</td><td>&quot;C&quot;</td><td>&quot;T&quot;</td><td>64</td><td>10</td><td>&quot;downstream_gen…</td><td>null</td><td>null</td><td>&quot;ENSG0000016271…</td><td>&quot;ENST0000053208…</td><td>75</td><td>null</td><td>null</td><td>&quot;FI36651:FI3665…</td></tr><tr><td>&quot;MU63478103&quot;</td><td>&quot;DO218489&quot;</td><td>&quot;SA543682&quot;</td><td>&quot;SA545080&quot;</td><td>&quot;PD8623a&quot;</td><td>&quot;PD8623b&quot;</td><td>&quot;1&quot;</td><td>247616560</td><td>247616560</td><td>1</td><td>&quot;GRCh37&quot;</td><td>&quot;single base su…</td><td>&quot;C&quot;</td><td>&quot;C&quot;</td><td>&quot;T&quot;</td><td>64</td><td>10</td><td>&quot;intergenic_reg…</td><td>null</td><td>null</td><td>null</td><td>null</td><td>75</td><td>null</td><td>null</td><td>&quot;FI36651:FI3665…</td></tr></tbody></table></div>"
      ],
      "text/plain": [
       "shape: (5, 26)\n",
       "┌───────────┬───────────┬───────────┬───────────┬───┬───────────┬───────────┬───────────┬──────────┐\n",
       "│ icgc_muta ┆ icgc_dono ┆ icgc_samp ┆ matched_i ┆ … ┆ gene_buil ┆ seq_cover ┆ raw_data_ ┆ raw_data │\n",
       "│ tion_id   ┆ r_id      ┆ le_id     ┆ cgc_sampl ┆   ┆ d_version ┆ age       ┆ repositor ┆ _accessi │\n",
       "│ ---       ┆ ---       ┆ ---       ┆ e_id      ┆   ┆ ---       ┆ ---       ┆ y         ┆ on       │\n",
       "│ str       ┆ str       ┆ str       ┆ ---       ┆   ┆ i64       ┆ str       ┆ ---       ┆ ---      │\n",
       "│           ┆           ┆           ┆ str       ┆   ┆           ┆           ┆ str       ┆ str      │\n",
       "╞═══════════╪═══════════╪═══════════╪═══════════╪═══╪═══════════╪═══════════╪═══════════╪══════════╡\n",
       "│ MU5528105 ┆ DO218489  ┆ SA543682  ┆ SA545080  ┆ … ┆ 75        ┆ null      ┆ EGA       ┆ EGAS0000 │\n",
       "│ 6         ┆           ┆           ┆           ┆   ┆           ┆           ┆           ┆ 1001195  │\n",
       "│ MU5528105 ┆ DO218489  ┆ SA543682  ┆ SA545080  ┆ … ┆ 75        ┆ null      ┆ null      ┆ FI36651: │\n",
       "│ 6         ┆           ┆           ┆           ┆   ┆           ┆           ┆           ┆ FI36650  │\n",
       "│ MU5078031 ┆ DO218489  ┆ SA543682  ┆ SA545080  ┆ … ┆ 75        ┆ null      ┆ null      ┆ FI36651: │\n",
       "│ 6         ┆           ┆           ┆           ┆   ┆           ┆           ┆           ┆ FI36650  │\n",
       "│ MU6347810 ┆ DO218489  ┆ SA543682  ┆ SA545080  ┆ … ┆ 75        ┆ null      ┆ null      ┆ FI36651: │\n",
       "│ 3         ┆           ┆           ┆           ┆   ┆           ┆           ┆           ┆ FI36650  │\n",
       "│ MU6347810 ┆ DO218489  ┆ SA543682  ┆ SA545080  ┆ … ┆ 75        ┆ null      ┆ null      ┆ FI36651: │\n",
       "│ 3         ┆           ┆           ┆           ┆   ┆           ┆           ┆           ┆ FI36650  │\n",
       "└───────────┴───────────┴───────────┴───────────┴───┴───────────┴───────────┴───────────┴──────────┘"
      ]
     },
     "execution_count": 14,
     "metadata": {},
     "output_type": "execute_result"
    }
   ],
   "source": [
    "# mutation_df = pl.read_csv(\"data/simple_somatic_mutation.open.BRCA-EU.tsv\", separator=\"\\t\", low_memory=True, infer_schema_length=10000)\n",
    "# sbs_mutation_df = pl.read_parquet(\"data/simple_somatic_mutation_sbs.parquet\", low_memory=True)\n",
    "sbs_mutation_df = pl.read_csv(\n",
    "    \"data/simple_somatic_mutation_sbs.tsv\", \n",
    "    separator=\"\\t\", low_memory=True, infer_schema_length=10_000\n",
    ").select(needed_cols)\n",
    "sbs_mutation_df.head()\n",
    "# sample_df = pd.read_csv(\"data/sample.BRCA-EU.tsv\", sep=\"\\t\")"
   ]
  },
  {
   "cell_type": "code",
   "execution_count": 6,
   "id": "d268b12f-6450-434f-965a-e03501319909",
   "metadata": {},
   "outputs": [
    {
     "data": {
      "text/plain": [
       "(7299, 42)"
      ]
     },
     "execution_count": 6,
     "metadata": {},
     "output_type": "execute_result"
    }
   ],
   "source": [
    "sbs_mutation_df.shape"
   ]
  },
  {
   "cell_type": "code",
   "execution_count": 7,
   "id": "4cfe52b5-abbb-4c2b-a3ae-d68d2acbf355",
   "metadata": {},
   "outputs": [
    {
     "data": {
      "text/plain": [
       "0"
      ]
     },
     "execution_count": 7,
     "metadata": {},
     "output_type": "execute_result"
    }
   ],
   "source": [
    "(sbs_mutation_df[\"reference_genome_allele\"] != sbs_mutation_df[\"mutated_from_allele\"]).sum()"
   ]
  },
  {
   "cell_type": "code",
   "execution_count": 9,
   "id": "6e5f4f31-f395-4142-86b5-fb6c4f324793",
   "metadata": {},
   "outputs": [
    {
     "data": {
      "text/html": [
       "<div><style>\n",
       ".dataframe > thead > tr,\n",
       ".dataframe > tbody > tr {\n",
       "  text-align: right;\n",
       "  white-space: pre-wrap;\n",
       "}\n",
       "</style>\n",
       "<small>shape: (1,)</small><table border=\"1\" class=\"dataframe\"><thead><tr><th>assembly_version</th></tr><tr><td>str</td></tr></thead><tbody><tr><td>&quot;GRCh37&quot;</td></tr></tbody></table></div>"
      ],
      "text/plain": [
       "shape: (1,)\n",
       "Series: 'assembly_version' [str]\n",
       "[\n",
       "\t\"GRCh37\"\n",
       "]"
      ]
     },
     "execution_count": 9,
     "metadata": {},
     "output_type": "execute_result"
    }
   ],
   "source": [
    "sbs_mutation_df[\"assembly_version\"].unique()"
   ]
  },
  {
   "cell_type": "code",
   "execution_count": null,
   "id": "278fd486-3685-41ed-a2e1-99d85211f468",
   "metadata": {},
   "outputs": [],
   "source": []
  },
  {
   "cell_type": "code",
   "execution_count": null,
   "id": "980d4fc6-b53b-4b97-9087-938a6d231ca6",
   "metadata": {},
   "outputs": [],
   "source": []
  },
  {
   "cell_type": "code",
   "execution_count": null,
   "id": "968510b9-dc5b-4cc3-8778-c53fc693f466",
   "metadata": {},
   "outputs": [],
   "source": []
  },
  {
   "cell_type": "code",
   "execution_count": null,
   "id": "09e00bca-9fb2-4c12-9d4d-d612e7ae5150",
   "metadata": {},
   "outputs": [],
   "source": []
  },
  {
   "cell_type": "code",
   "execution_count": 24,
   "id": "95a7ab50-f6ae-465e-a9b7-36d301a2f01f",
   "metadata": {},
   "outputs": [
    {
     "data": {
      "text/html": [
       "<div><style>\n",
       ".dataframe > thead > tr,\n",
       ".dataframe > tbody > tr {\n",
       "  text-align: right;\n",
       "  white-space: pre-wrap;\n",
       "}\n",
       "</style>\n",
       "<small>shape: (3_530, 42)</small><table border=\"1\" class=\"dataframe\"><thead><tr><th>icgc_mutation_id</th><th>icgc_donor_id</th><th>project_code</th><th>icgc_specimen_id</th><th>icgc_sample_id</th><th>matched_icgc_sample_id</th><th>submitted_sample_id</th><th>submitted_matched_sample_id</th><th>chromosome</th><th>chromosome_start</th><th>chromosome_end</th><th>chromosome_strand</th><th>assembly_version</th><th>mutation_type</th><th>reference_genome_allele</th><th>mutated_from_allele</th><th>mutated_to_allele</th><th>quality_score</th><th>probability</th><th>total_read_count</th><th>mutant_allele_read_count</th><th>verification_status</th><th>verification_platform</th><th>biological_validation_status</th><th>biological_validation_platform</th><th>consequence_type</th><th>aa_mutation</th><th>cds_mutation</th><th>gene_affected</th><th>transcript_affected</th><th>gene_build_version</th><th>platform</th><th>experimental_protocol</th><th>sequencing_strategy</th><th>base_calling_algorithm</th><th>alignment_algorithm</th><th>variation_calling_algorithm</th><th>other_analysis_algorithm</th><th>seq_coverage</th><th>raw_data_repository</th><th>raw_data_accession</th><th>initial_data_release_date</th></tr><tr><td>str</td><td>str</td><td>str</td><td>str</td><td>str</td><td>str</td><td>str</td><td>str</td><td>str</td><td>i64</td><td>i64</td><td>i64</td><td>str</td><td>str</td><td>str</td><td>str</td><td>str</td><td>str</td><td>str</td><td>i64</td><td>i64</td><td>str</td><td>str</td><td>str</td><td>str</td><td>str</td><td>str</td><td>str</td><td>str</td><td>str</td><td>i64</td><td>str</td><td>str</td><td>str</td><td>str</td><td>str</td><td>str</td><td>str</td><td>str</td><td>str</td><td>str</td><td>str</td></tr></thead><tbody><tr><td>&quot;MU55281056&quot;</td><td>&quot;DO218489&quot;</td><td>&quot;BRCA-EU&quot;</td><td>&quot;SP117710&quot;</td><td>&quot;SA543682&quot;</td><td>&quot;SA545080&quot;</td><td>&quot;PD8623a&quot;</td><td>&quot;PD8623b&quot;</td><td>&quot;15&quot;</td><td>24985486</td><td>24985486</td><td>1</td><td>&quot;GRCh37&quot;</td><td>&quot;single base su…</td><td>&quot;G&quot;</td><td>&quot;G&quot;</td><td>&quot;A&quot;</td><td>null</td><td>null</td><td>57</td><td>6</td><td>&quot;not tested&quot;</td><td>null</td><td>null</td><td>null</td><td>&quot;intergenic_reg…</td><td>null</td><td>null</td><td>null</td><td>null</td><td>75</td><td>&quot;Illumina HiSeq…</td><td>null</td><td>&quot;WGS&quot;</td><td>null</td><td>null</td><td>&quot;PCAWG Consensu…</td><td>null</td><td>null</td><td>null</td><td>&quot;FI36651:FI3665…</td><td>null</td></tr><tr><td>&quot;MU50780316&quot;</td><td>&quot;DO218489&quot;</td><td>&quot;BRCA-EU&quot;</td><td>&quot;SP117710&quot;</td><td>&quot;SA543682&quot;</td><td>&quot;SA545080&quot;</td><td>&quot;PD8623a&quot;</td><td>&quot;PD8623b&quot;</td><td>&quot;3&quot;</td><td>19778034</td><td>19778034</td><td>1</td><td>&quot;GRCh37&quot;</td><td>&quot;single base su…</td><td>&quot;G&quot;</td><td>&quot;G&quot;</td><td>&quot;A&quot;</td><td>null</td><td>null</td><td>84</td><td>5</td><td>&quot;not tested&quot;</td><td>null</td><td>null</td><td>null</td><td>&quot;intergenic_reg…</td><td>null</td><td>null</td><td>null</td><td>null</td><td>75</td><td>&quot;Illumina HiSeq…</td><td>null</td><td>&quot;WGS&quot;</td><td>null</td><td>null</td><td>&quot;PCAWG Consensu…</td><td>null</td><td>null</td><td>null</td><td>&quot;FI36651:FI3665…</td><td>null</td></tr><tr><td>&quot;MU63478103&quot;</td><td>&quot;DO218489&quot;</td><td>&quot;BRCA-EU&quot;</td><td>&quot;SP117710&quot;</td><td>&quot;SA543682&quot;</td><td>&quot;SA545080&quot;</td><td>&quot;PD8623a&quot;</td><td>&quot;PD8623b&quot;</td><td>&quot;1&quot;</td><td>247616560</td><td>247616560</td><td>1</td><td>&quot;GRCh37&quot;</td><td>&quot;single base su…</td><td>&quot;C&quot;</td><td>&quot;C&quot;</td><td>&quot;T&quot;</td><td>null</td><td>null</td><td>64</td><td>10</td><td>&quot;not tested&quot;</td><td>null</td><td>null</td><td>null</td><td>&quot;downstream_gen…</td><td>null</td><td>null</td><td>&quot;ENSG0000016271…</td><td>&quot;ENST0000053208…</td><td>75</td><td>&quot;Illumina HiSeq…</td><td>null</td><td>&quot;WGS&quot;</td><td>null</td><td>null</td><td>&quot;PCAWG Consensu…</td><td>null</td><td>null</td><td>null</td><td>&quot;FI36651:FI3665…</td><td>null</td></tr><tr><td>&quot;MU63478103&quot;</td><td>&quot;DO218489&quot;</td><td>&quot;BRCA-EU&quot;</td><td>&quot;SP117710&quot;</td><td>&quot;SA543682&quot;</td><td>&quot;SA545080&quot;</td><td>&quot;PD8623a&quot;</td><td>&quot;PD8623b&quot;</td><td>&quot;1&quot;</td><td>247616560</td><td>247616560</td><td>1</td><td>&quot;GRCh37&quot;</td><td>&quot;single base su…</td><td>&quot;C&quot;</td><td>&quot;C&quot;</td><td>&quot;T&quot;</td><td>null</td><td>null</td><td>64</td><td>10</td><td>&quot;not tested&quot;</td><td>null</td><td>null</td><td>null</td><td>&quot;intergenic_reg…</td><td>null</td><td>null</td><td>null</td><td>null</td><td>75</td><td>&quot;Illumina HiSeq…</td><td>null</td><td>&quot;WGS&quot;</td><td>null</td><td>null</td><td>&quot;PCAWG Consensu…</td><td>null</td><td>null</td><td>null</td><td>&quot;FI36651:FI3665…</td><td>null</td></tr><tr><td>&quot;MU63478103&quot;</td><td>&quot;DO218489&quot;</td><td>&quot;BRCA-EU&quot;</td><td>&quot;SP117710&quot;</td><td>&quot;SA543682&quot;</td><td>&quot;SA545080&quot;</td><td>&quot;PD8623a&quot;</td><td>&quot;PD8623b&quot;</td><td>&quot;1&quot;</td><td>247616560</td><td>247616560</td><td>1</td><td>&quot;GRCh37&quot;</td><td>&quot;single base su…</td><td>&quot;C&quot;</td><td>&quot;C&quot;</td><td>&quot;T&quot;</td><td>null</td><td>null</td><td>64</td><td>10</td><td>&quot;not tested&quot;</td><td>null</td><td>null</td><td>null</td><td>&quot;downstream_gen…</td><td>null</td><td>null</td><td>&quot;ENSG0000016271…</td><td>&quot;ENST0000033611…</td><td>75</td><td>&quot;Illumina HiSeq…</td><td>null</td><td>&quot;WGS&quot;</td><td>null</td><td>null</td><td>&quot;PCAWG Consensu…</td><td>null</td><td>null</td><td>null</td><td>&quot;FI36651:FI3665…</td><td>null</td></tr><tr><td>&quot;MU63478103&quot;</td><td>&quot;DO218489&quot;</td><td>&quot;BRCA-EU&quot;</td><td>&quot;SP117710&quot;</td><td>&quot;SA543682&quot;</td><td>&quot;SA545080&quot;</td><td>&quot;PD8623a&quot;</td><td>&quot;PD8623b&quot;</td><td>&quot;1&quot;</td><td>247616560</td><td>247616560</td><td>1</td><td>&quot;GRCh37&quot;</td><td>&quot;single base su…</td><td>&quot;C&quot;</td><td>&quot;C&quot;</td><td>&quot;T&quot;</td><td>null</td><td>null</td><td>64</td><td>10</td><td>&quot;not tested&quot;</td><td>null</td><td>null</td><td>null</td><td>&quot;downstream_gen…</td><td>null</td><td>null</td><td>&quot;ENSG0000016271…</td><td>&quot;ENST0000036649…</td><td>75</td><td>&quot;Illumina HiSeq…</td><td>null</td><td>&quot;WGS&quot;</td><td>null</td><td>null</td><td>&quot;PCAWG Consensu…</td><td>null</td><td>null</td><td>null</td><td>&quot;FI36651:FI3665…</td><td>null</td></tr><tr><td>&quot;MU63478103&quot;</td><td>&quot;DO218489&quot;</td><td>&quot;BRCA-EU&quot;</td><td>&quot;SP117710&quot;</td><td>&quot;SA543682&quot;</td><td>&quot;SA545080&quot;</td><td>&quot;PD8623a&quot;</td><td>&quot;PD8623b&quot;</td><td>&quot;1&quot;</td><td>247616560</td><td>247616560</td><td>1</td><td>&quot;GRCh37&quot;</td><td>&quot;single base su…</td><td>&quot;C&quot;</td><td>&quot;C&quot;</td><td>&quot;T&quot;</td><td>null</td><td>null</td><td>64</td><td>10</td><td>&quot;not tested&quot;</td><td>null</td><td>null</td><td>null</td><td>&quot;upstream_gene_…</td><td>null</td><td>null</td><td>&quot;ENSG0000017753…</td><td>&quot;ENST0000031874…</td><td>75</td><td>&quot;Illumina HiSeq…</td><td>null</td><td>&quot;WGS&quot;</td><td>null</td><td>null</td><td>&quot;PCAWG Consensu…</td><td>null</td><td>null</td><td>null</td><td>&quot;FI36651:FI3665…</td><td>null</td></tr><tr><td>&quot;MU63478103&quot;</td><td>&quot;DO218489&quot;</td><td>&quot;BRCA-EU&quot;</td><td>&quot;SP117710&quot;</td><td>&quot;SA543682&quot;</td><td>&quot;SA545080&quot;</td><td>&quot;PD8623a&quot;</td><td>&quot;PD8623b&quot;</td><td>&quot;1&quot;</td><td>247616560</td><td>247616560</td><td>1</td><td>&quot;GRCh37&quot;</td><td>&quot;single base su…</td><td>&quot;C&quot;</td><td>&quot;C&quot;</td><td>&quot;T&quot;</td><td>null</td><td>null</td><td>64</td><td>10</td><td>&quot;not tested&quot;</td><td>null</td><td>null</td><td>null</td><td>&quot;downstream_gen…</td><td>null</td><td>null</td><td>&quot;ENSG0000016271…</td><td>&quot;ENST0000039182…</td><td>75</td><td>&quot;Illumina HiSeq…</td><td>null</td><td>&quot;WGS&quot;</td><td>null</td><td>null</td><td>&quot;PCAWG Consensu…</td><td>null</td><td>null</td><td>null</td><td>&quot;FI36651:FI3665…</td><td>null</td></tr><tr><td>&quot;MU63478103&quot;</td><td>&quot;DO218489&quot;</td><td>&quot;BRCA-EU&quot;</td><td>&quot;SP117710&quot;</td><td>&quot;SA543682&quot;</td><td>&quot;SA545080&quot;</td><td>&quot;PD8623a&quot;</td><td>&quot;PD8623b&quot;</td><td>&quot;1&quot;</td><td>247616560</td><td>247616560</td><td>1</td><td>&quot;GRCh37&quot;</td><td>&quot;single base su…</td><td>&quot;C&quot;</td><td>&quot;C&quot;</td><td>&quot;T&quot;</td><td>null</td><td>null</td><td>64</td><td>10</td><td>&quot;not tested&quot;</td><td>null</td><td>null</td><td>null</td><td>&quot;downstream_gen…</td><td>null</td><td>null</td><td>&quot;ENSG0000016271…</td><td>&quot;ENST0000034806…</td><td>75</td><td>&quot;Illumina HiSeq…</td><td>null</td><td>&quot;WGS&quot;</td><td>null</td><td>null</td><td>&quot;PCAWG Consensu…</td><td>null</td><td>null</td><td>null</td><td>&quot;FI36651:FI3665…</td><td>null</td></tr><tr><td>&quot;MU63478103&quot;</td><td>&quot;DO218489&quot;</td><td>&quot;BRCA-EU&quot;</td><td>&quot;SP117710&quot;</td><td>&quot;SA543682&quot;</td><td>&quot;SA545080&quot;</td><td>&quot;PD8623a&quot;</td><td>&quot;PD8623b&quot;</td><td>&quot;1&quot;</td><td>247616560</td><td>247616560</td><td>1</td><td>&quot;GRCh37&quot;</td><td>&quot;single base su…</td><td>&quot;C&quot;</td><td>&quot;C&quot;</td><td>&quot;T&quot;</td><td>null</td><td>null</td><td>64</td><td>10</td><td>&quot;not tested&quot;</td><td>null</td><td>null</td><td>null</td><td>&quot;downstream_gen…</td><td>null</td><td>null</td><td>&quot;ENSG0000016271…</td><td>&quot;ENST0000039182…</td><td>75</td><td>&quot;Illumina HiSeq…</td><td>null</td><td>&quot;WGS&quot;</td><td>null</td><td>null</td><td>&quot;PCAWG Consensu…</td><td>null</td><td>null</td><td>null</td><td>&quot;FI36651:FI3665…</td><td>null</td></tr><tr><td>&quot;MU63478103&quot;</td><td>&quot;DO218489&quot;</td><td>&quot;BRCA-EU&quot;</td><td>&quot;SP117710&quot;</td><td>&quot;SA543682&quot;</td><td>&quot;SA545080&quot;</td><td>&quot;PD8623a&quot;</td><td>&quot;PD8623b&quot;</td><td>&quot;1&quot;</td><td>247616560</td><td>247616560</td><td>1</td><td>&quot;GRCh37&quot;</td><td>&quot;single base su…</td><td>&quot;C&quot;</td><td>&quot;C&quot;</td><td>&quot;T&quot;</td><td>null</td><td>null</td><td>64</td><td>10</td><td>&quot;not tested&quot;</td><td>null</td><td>null</td><td>null</td><td>&quot;downstream_gen…</td><td>null</td><td>null</td><td>&quot;ENSG0000016271…</td><td>&quot;ENST0000036649…</td><td>75</td><td>&quot;Illumina HiSeq…</td><td>null</td><td>&quot;WGS&quot;</td><td>null</td><td>null</td><td>&quot;PCAWG Consensu…</td><td>null</td><td>null</td><td>null</td><td>&quot;FI36651:FI3665…</td><td>null</td></tr><tr><td>&quot;MU63501847&quot;</td><td>&quot;DO218489&quot;</td><td>&quot;BRCA-EU&quot;</td><td>&quot;SP117710&quot;</td><td>&quot;SA543682&quot;</td><td>&quot;SA545080&quot;</td><td>&quot;PD8623a&quot;</td><td>&quot;PD8623b&quot;</td><td>&quot;1&quot;</td><td>979770</td><td>979770</td><td>1</td><td>&quot;GRCh37&quot;</td><td>&quot;single base su…</td><td>&quot;G&quot;</td><td>&quot;G&quot;</td><td>&quot;T&quot;</td><td>null</td><td>null</td><td>47</td><td>6</td><td>&quot;not tested&quot;</td><td>null</td><td>null</td><td>null</td><td>&quot;downstream_gen…</td><td>null</td><td>null</td><td>&quot;ENSG0000018815…</td><td>&quot;ENST0000046940…</td><td>75</td><td>&quot;Illumina HiSeq…</td><td>null</td><td>&quot;WGS&quot;</td><td>null</td><td>null</td><td>&quot;PCAWG Consensu…</td><td>null</td><td>null</td><td>null</td><td>&quot;FI36651:FI3665…</td><td>null</td></tr><tr><td>&hellip;</td><td>&hellip;</td><td>&hellip;</td><td>&hellip;</td><td>&hellip;</td><td>&hellip;</td><td>&hellip;</td><td>&hellip;</td><td>&hellip;</td><td>&hellip;</td><td>&hellip;</td><td>&hellip;</td><td>&hellip;</td><td>&hellip;</td><td>&hellip;</td><td>&hellip;</td><td>&hellip;</td><td>&hellip;</td><td>&hellip;</td><td>&hellip;</td><td>&hellip;</td><td>&hellip;</td><td>&hellip;</td><td>&hellip;</td><td>&hellip;</td><td>&hellip;</td><td>&hellip;</td><td>&hellip;</td><td>&hellip;</td><td>&hellip;</td><td>&hellip;</td><td>&hellip;</td><td>&hellip;</td><td>&hellip;</td><td>&hellip;</td><td>&hellip;</td><td>&hellip;</td><td>&hellip;</td><td>&hellip;</td><td>&hellip;</td><td>&hellip;</td><td>&hellip;</td></tr><tr><td>&quot;MU63511486&quot;</td><td>&quot;DO218489&quot;</td><td>&quot;BRCA-EU&quot;</td><td>&quot;SP117710&quot;</td><td>&quot;SA543682&quot;</td><td>&quot;SA545080&quot;</td><td>&quot;PD8623a&quot;</td><td>&quot;PD8623b&quot;</td><td>&quot;X&quot;</td><td>149779164</td><td>149779164</td><td>1</td><td>&quot;GRCh37&quot;</td><td>&quot;single base su…</td><td>&quot;G&quot;</td><td>&quot;G&quot;</td><td>&quot;A&quot;</td><td>null</td><td>null</td><td>49</td><td>14</td><td>&quot;not tested&quot;</td><td>null</td><td>null</td><td>null</td><td>&quot;intron_variant…</td><td>null</td><td>null</td><td>&quot;ENSG0000017110…</td><td>&quot;ENST0000030616…</td><td>75</td><td>&quot;Illumina HiSeq…</td><td>null</td><td>&quot;WGS&quot;</td><td>null</td><td>null</td><td>&quot;PCAWG Consensu…</td><td>null</td><td>null</td><td>null</td><td>&quot;FI36651:FI3665…</td><td>null</td></tr><tr><td>&quot;MU63511486&quot;</td><td>&quot;DO218489&quot;</td><td>&quot;BRCA-EU&quot;</td><td>&quot;SP117710&quot;</td><td>&quot;SA543682&quot;</td><td>&quot;SA545080&quot;</td><td>&quot;PD8623a&quot;</td><td>&quot;PD8623b&quot;</td><td>&quot;X&quot;</td><td>149779164</td><td>149779164</td><td>1</td><td>&quot;GRCh37&quot;</td><td>&quot;single base su…</td><td>&quot;G&quot;</td><td>&quot;G&quot;</td><td>&quot;A&quot;</td><td>null</td><td>null</td><td>49</td><td>14</td><td>&quot;not tested&quot;</td><td>null</td><td>null</td><td>null</td><td>&quot;intron_variant…</td><td>null</td><td>null</td><td>&quot;ENSG0000017110…</td><td>&quot;ENST0000041301…</td><td>75</td><td>&quot;Illumina HiSeq…</td><td>null</td><td>&quot;WGS&quot;</td><td>null</td><td>null</td><td>&quot;PCAWG Consensu…</td><td>null</td><td>null</td><td>null</td><td>&quot;FI36651:FI3665…</td><td>null</td></tr><tr><td>&quot;MU63511486&quot;</td><td>&quot;DO218489&quot;</td><td>&quot;BRCA-EU&quot;</td><td>&quot;SP117710&quot;</td><td>&quot;SA543682&quot;</td><td>&quot;SA545080&quot;</td><td>&quot;PD8623a&quot;</td><td>&quot;PD8623b&quot;</td><td>&quot;X&quot;</td><td>149779164</td><td>149779164</td><td>1</td><td>&quot;GRCh37&quot;</td><td>&quot;single base su…</td><td>&quot;G&quot;</td><td>&quot;G&quot;</td><td>&quot;A&quot;</td><td>null</td><td>null</td><td>49</td><td>14</td><td>&quot;not tested&quot;</td><td>null</td><td>null</td><td>null</td><td>&quot;intron_variant…</td><td>null</td><td>null</td><td>&quot;ENSG0000017110…</td><td>&quot;ENST0000037039…</td><td>75</td><td>&quot;Illumina HiSeq…</td><td>null</td><td>&quot;WGS&quot;</td><td>null</td><td>null</td><td>&quot;PCAWG Consensu…</td><td>null</td><td>null</td><td>null</td><td>&quot;FI36651:FI3665…</td><td>null</td></tr><tr><td>&quot;MU50962121&quot;</td><td>&quot;DO218489&quot;</td><td>&quot;BRCA-EU&quot;</td><td>&quot;SP117710&quot;</td><td>&quot;SA543682&quot;</td><td>&quot;SA545080&quot;</td><td>&quot;PD8623a&quot;</td><td>&quot;PD8623b&quot;</td><td>&quot;11&quot;</td><td>114032710</td><td>114032710</td><td>1</td><td>&quot;GRCh37&quot;</td><td>&quot;single base su…</td><td>&quot;C&quot;</td><td>&quot;C&quot;</td><td>&quot;T&quot;</td><td>null</td><td>null</td><td>60</td><td>18</td><td>&quot;not tested&quot;</td><td>null</td><td>null</td><td>null</td><td>&quot;intron_variant…</td><td>null</td><td>null</td><td>&quot;ENSG0000010990…</td><td>&quot;ENST0000054160…</td><td>75</td><td>&quot;Illumina HiSeq…</td><td>null</td><td>&quot;WGS&quot;</td><td>null</td><td>null</td><td>&quot;PCAWG Consensu…</td><td>null</td><td>null</td><td>null</td><td>&quot;FI36651:FI3665…</td><td>null</td></tr><tr><td>&quot;MU50962121&quot;</td><td>&quot;DO218489&quot;</td><td>&quot;BRCA-EU&quot;</td><td>&quot;SP117710&quot;</td><td>&quot;SA543682&quot;</td><td>&quot;SA545080&quot;</td><td>&quot;PD8623a&quot;</td><td>&quot;PD8623b&quot;</td><td>&quot;11&quot;</td><td>114032710</td><td>114032710</td><td>1</td><td>&quot;GRCh37&quot;</td><td>&quot;single base su…</td><td>&quot;C&quot;</td><td>&quot;C&quot;</td><td>&quot;T&quot;</td><td>null</td><td>null</td><td>60</td><td>18</td><td>&quot;not tested&quot;</td><td>null</td><td>null</td><td>null</td><td>&quot;intron_variant…</td><td>null</td><td>null</td><td>&quot;ENSG0000010990…</td><td>&quot;ENST0000033595…</td><td>75</td><td>&quot;Illumina HiSeq…</td><td>null</td><td>&quot;WGS&quot;</td><td>null</td><td>null</td><td>&quot;PCAWG Consensu…</td><td>null</td><td>null</td><td>null</td><td>&quot;FI36651:FI3665…</td><td>null</td></tr><tr><td>&quot;MU50962121&quot;</td><td>&quot;DO218489&quot;</td><td>&quot;BRCA-EU&quot;</td><td>&quot;SP117710&quot;</td><td>&quot;SA543682&quot;</td><td>&quot;SA545080&quot;</td><td>&quot;PD8623a&quot;</td><td>&quot;PD8623b&quot;</td><td>&quot;11&quot;</td><td>114032710</td><td>114032710</td><td>1</td><td>&quot;GRCh37&quot;</td><td>&quot;single base su…</td><td>&quot;C&quot;</td><td>&quot;C&quot;</td><td>&quot;T&quot;</td><td>null</td><td>null</td><td>60</td><td>18</td><td>&quot;not tested&quot;</td><td>null</td><td>null</td><td>null</td><td>&quot;intron_variant…</td><td>null</td><td>null</td><td>&quot;ENSG0000010990…</td><td>&quot;ENST0000039299…</td><td>75</td><td>&quot;Illumina HiSeq…</td><td>null</td><td>&quot;WGS&quot;</td><td>null</td><td>null</td><td>&quot;PCAWG Consensu…</td><td>null</td><td>null</td><td>null</td><td>&quot;FI36651:FI3665…</td><td>null</td></tr><tr><td>&quot;MU50962121&quot;</td><td>&quot;DO218489&quot;</td><td>&quot;BRCA-EU&quot;</td><td>&quot;SP117710&quot;</td><td>&quot;SA543682&quot;</td><td>&quot;SA545080&quot;</td><td>&quot;PD8623a&quot;</td><td>&quot;PD8623b&quot;</td><td>&quot;11&quot;</td><td>114032710</td><td>114032710</td><td>1</td><td>&quot;GRCh37&quot;</td><td>&quot;single base su…</td><td>&quot;C&quot;</td><td>&quot;C&quot;</td><td>&quot;T&quot;</td><td>null</td><td>null</td><td>60</td><td>18</td><td>&quot;not tested&quot;</td><td>null</td><td>null</td><td>null</td><td>&quot;intron_variant…</td><td>null</td><td>null</td><td>&quot;ENSG0000010990…</td><td>&quot;ENST0000053991…</td><td>75</td><td>&quot;Illumina HiSeq…</td><td>null</td><td>&quot;WGS&quot;</td><td>null</td><td>null</td><td>&quot;PCAWG Consensu…</td><td>null</td><td>null</td><td>null</td><td>&quot;FI36651:FI3665…</td><td>null</td></tr><tr><td>&quot;MU47497687&quot;</td><td>&quot;DO218489&quot;</td><td>&quot;BRCA-EU&quot;</td><td>&quot;SP117710&quot;</td><td>&quot;SA543682&quot;</td><td>&quot;SA545080&quot;</td><td>&quot;PD8623a&quot;</td><td>&quot;PD8623b&quot;</td><td>&quot;20&quot;</td><td>8542328</td><td>8542328</td><td>1</td><td>&quot;GRCh37&quot;</td><td>&quot;single base su…</td><td>&quot;C&quot;</td><td>&quot;C&quot;</td><td>&quot;T&quot;</td><td>null</td><td>null</td><td>62</td><td>5</td><td>&quot;not tested&quot;</td><td>null</td><td>null</td><td>null</td><td>&quot;intron_variant…</td><td>null</td><td>null</td><td>&quot;ENSG0000018262…</td><td>&quot;ENST0000037864…</td><td>75</td><td>&quot;Illumina HiSeq…</td><td>null</td><td>&quot;WGS&quot;</td><td>null</td><td>null</td><td>&quot;PCAWG Consensu…</td><td>null</td><td>null</td><td>null</td><td>&quot;FI36651:FI3665…</td><td>null</td></tr><tr><td>&quot;MU47497687&quot;</td><td>&quot;DO218489&quot;</td><td>&quot;BRCA-EU&quot;</td><td>&quot;SP117710&quot;</td><td>&quot;SA543682&quot;</td><td>&quot;SA545080&quot;</td><td>&quot;PD8623a&quot;</td><td>&quot;PD8623b&quot;</td><td>&quot;20&quot;</td><td>8542328</td><td>8542328</td><td>1</td><td>&quot;GRCh37&quot;</td><td>&quot;single base su…</td><td>&quot;C&quot;</td><td>&quot;C&quot;</td><td>&quot;T&quot;</td><td>null</td><td>null</td><td>62</td><td>5</td><td>&quot;not tested&quot;</td><td>null</td><td>null</td><td>null</td><td>&quot;intron_variant…</td><td>null</td><td>null</td><td>&quot;ENSG0000018262…</td><td>&quot;ENST0000040409…</td><td>75</td><td>&quot;Illumina HiSeq…</td><td>null</td><td>&quot;WGS&quot;</td><td>null</td><td>null</td><td>&quot;PCAWG Consensu…</td><td>null</td><td>null</td><td>null</td><td>&quot;FI36651:FI3665…</td><td>null</td></tr><tr><td>&quot;MU47497687&quot;</td><td>&quot;DO218489&quot;</td><td>&quot;BRCA-EU&quot;</td><td>&quot;SP117710&quot;</td><td>&quot;SA543682&quot;</td><td>&quot;SA545080&quot;</td><td>&quot;PD8623a&quot;</td><td>&quot;PD8623b&quot;</td><td>&quot;20&quot;</td><td>8542328</td><td>8542328</td><td>1</td><td>&quot;GRCh37&quot;</td><td>&quot;single base su…</td><td>&quot;C&quot;</td><td>&quot;C&quot;</td><td>&quot;T&quot;</td><td>null</td><td>null</td><td>62</td><td>5</td><td>&quot;not tested&quot;</td><td>null</td><td>null</td><td>null</td><td>&quot;intron_variant…</td><td>null</td><td>null</td><td>&quot;ENSG0000018262…</td><td>&quot;ENST0000037863…</td><td>75</td><td>&quot;Illumina HiSeq…</td><td>null</td><td>&quot;WGS&quot;</td><td>null</td><td>null</td><td>&quot;PCAWG Consensu…</td><td>null</td><td>null</td><td>null</td><td>&quot;FI36651:FI3665…</td><td>null</td></tr><tr><td>&quot;MU47497687&quot;</td><td>&quot;DO218489&quot;</td><td>&quot;BRCA-EU&quot;</td><td>&quot;SP117710&quot;</td><td>&quot;SA543682&quot;</td><td>&quot;SA545080&quot;</td><td>&quot;PD8623a&quot;</td><td>&quot;PD8623b&quot;</td><td>&quot;20&quot;</td><td>8542328</td><td>8542328</td><td>1</td><td>&quot;GRCh37&quot;</td><td>&quot;single base su…</td><td>&quot;C&quot;</td><td>&quot;C&quot;</td><td>&quot;T&quot;</td><td>null</td><td>null</td><td>62</td><td>5</td><td>&quot;not tested&quot;</td><td>null</td><td>null</td><td>null</td><td>&quot;intron_variant…</td><td>null</td><td>null</td><td>&quot;ENSG0000018262…</td><td>&quot;ENST0000033803…</td><td>75</td><td>&quot;Illumina HiSeq…</td><td>null</td><td>&quot;WGS&quot;</td><td>null</td><td>null</td><td>&quot;PCAWG Consensu…</td><td>null</td><td>null</td><td>null</td><td>&quot;FI36651:FI3665…</td><td>null</td></tr><tr><td>&quot;MU55730741&quot;</td><td>&quot;DO218489&quot;</td><td>&quot;BRCA-EU&quot;</td><td>&quot;SP117710&quot;</td><td>&quot;SA543682&quot;</td><td>&quot;SA545080&quot;</td><td>&quot;PD8623a&quot;</td><td>&quot;PD8623b&quot;</td><td>&quot;3&quot;</td><td>181923003</td><td>181923003</td><td>1</td><td>&quot;GRCh37&quot;</td><td>&quot;single base su…</td><td>&quot;C&quot;</td><td>&quot;C&quot;</td><td>&quot;T&quot;</td><td>null</td><td>null</td><td>53</td><td>4</td><td>&quot;not tested&quot;</td><td>null</td><td>null</td><td>null</td><td>&quot;intergenic_reg…</td><td>null</td><td>null</td><td>null</td><td>null</td><td>75</td><td>&quot;Illumina HiSeq…</td><td>null</td><td>&quot;WGS&quot;</td><td>null</td><td>null</td><td>&quot;PCAWG Consensu…</td><td>null</td><td>null</td><td>null</td><td>&quot;FI36651:FI3665…</td><td>null</td></tr></tbody></table></div>"
      ],
      "text/plain": [
       "shape: (3_530, 42)\n",
       "┌───────────┬───────────┬───────────┬───────────┬───┬───────────┬───────────┬───────────┬──────────┐\n",
       "│ icgc_muta ┆ icgc_dono ┆ project_c ┆ icgc_spec ┆ … ┆ seq_cover ┆ raw_data_ ┆ raw_data_ ┆ initial_ │\n",
       "│ tion_id   ┆ r_id      ┆ ode       ┆ imen_id   ┆   ┆ age       ┆ repositor ┆ accession ┆ data_rel │\n",
       "│ ---       ┆ ---       ┆ ---       ┆ ---       ┆   ┆ ---       ┆ y         ┆ ---       ┆ ease_dat │\n",
       "│ str       ┆ str       ┆ str       ┆ str       ┆   ┆ str       ┆ ---       ┆ str       ┆ e        │\n",
       "│           ┆           ┆           ┆           ┆   ┆           ┆ str       ┆           ┆ ---      │\n",
       "│           ┆           ┆           ┆           ┆   ┆           ┆           ┆           ┆ str      │\n",
       "╞═══════════╪═══════════╪═══════════╪═══════════╪═══╪═══════════╪═══════════╪═══════════╪══════════╡\n",
       "│ MU5528105 ┆ DO218489  ┆ BRCA-EU   ┆ SP117710  ┆ … ┆ null      ┆ null      ┆ FI36651:F ┆ null     │\n",
       "│ 6         ┆           ┆           ┆           ┆   ┆           ┆           ┆ I36650    ┆          │\n",
       "│ MU5078031 ┆ DO218489  ┆ BRCA-EU   ┆ SP117710  ┆ … ┆ null      ┆ null      ┆ FI36651:F ┆ null     │\n",
       "│ 6         ┆           ┆           ┆           ┆   ┆           ┆           ┆ I36650    ┆          │\n",
       "│ MU6347810 ┆ DO218489  ┆ BRCA-EU   ┆ SP117710  ┆ … ┆ null      ┆ null      ┆ FI36651:F ┆ null     │\n",
       "│ 3         ┆           ┆           ┆           ┆   ┆           ┆           ┆ I36650    ┆          │\n",
       "│ MU6347810 ┆ DO218489  ┆ BRCA-EU   ┆ SP117710  ┆ … ┆ null      ┆ null      ┆ FI36651:F ┆ null     │\n",
       "│ 3         ┆           ┆           ┆           ┆   ┆           ┆           ┆ I36650    ┆          │\n",
       "│ …         ┆ …         ┆ …         ┆ …         ┆ … ┆ …         ┆ …         ┆ …         ┆ …        │\n",
       "│ MU4749768 ┆ DO218489  ┆ BRCA-EU   ┆ SP117710  ┆ … ┆ null      ┆ null      ┆ FI36651:F ┆ null     │\n",
       "│ 7         ┆           ┆           ┆           ┆   ┆           ┆           ┆ I36650    ┆          │\n",
       "│ MU4749768 ┆ DO218489  ┆ BRCA-EU   ┆ SP117710  ┆ … ┆ null      ┆ null      ┆ FI36651:F ┆ null     │\n",
       "│ 7         ┆           ┆           ┆           ┆   ┆           ┆           ┆ I36650    ┆          │\n",
       "│ MU4749768 ┆ DO218489  ┆ BRCA-EU   ┆ SP117710  ┆ … ┆ null      ┆ null      ┆ FI36651:F ┆ null     │\n",
       "│ 7         ┆           ┆           ┆           ┆   ┆           ┆           ┆ I36650    ┆          │\n",
       "│ MU5573074 ┆ DO218489  ┆ BRCA-EU   ┆ SP117710  ┆ … ┆ null      ┆ null      ┆ FI36651:F ┆ null     │\n",
       "│ 1         ┆           ┆           ┆           ┆   ┆           ┆           ┆ I36650    ┆          │\n",
       "└───────────┴───────────┴───────────┴───────────┴───┴───────────┴───────────┴───────────┴──────────┘"
      ]
     },
     "execution_count": 24,
     "metadata": {},
     "output_type": "execute_result"
    }
   ],
   "source": [
    "sbs_mutation_df.filter(pl.col(\"biological_validation_platform\").is_null())"
   ]
  },
  {
   "cell_type": "code",
   "execution_count": null,
   "id": "6d15ce61-18c8-4c6d-8be6-fe0f5a46e70d",
   "metadata": {},
   "outputs": [],
   "source": [
    "needed_cols = ['icgc_mutation_id',\n",
    "  'icgc_donor_id',\n",
    "  'icgc_sample_id',\n",
    "  'matched_icgc_sample_id',\n",
    "  'submitted_sample_id',\n",
    "  'submitted_matched_sample_id',\n",
    "  'chromosome',\n",
    "  'chromosome_start',\n",
    "  'chromosome_end',\n",
    "  'chromosome_strand',\n",
    "  'assembly_version',\n",
    "  'mutation_type',\n",
    "  'reference_genome_allele',\n",
    "  'mutated_from_allele',\n",
    "  'mutated_to_allele',\n",
    "  'total_read_count',\n",
    "  'mutant_allele_read_count',\n",
    "  'consequence_type',\n",
    "  'aa_mutation',\n",
    "  'cds_mutation',\n",
    "  'gene_affected',\n",
    "  'transcript_affected',\n",
    "  'gene_build_version',\n",
    "  'seq_coverage',\n",
    "  'raw_data_repository',\n",
    "  'raw_data_accession',\n",
    "]"
   ]
  },
  {
   "cell_type": "code",
   "execution_count": null,
   "id": "add09560-b927-4724-92d0-2ea1062322c7",
   "metadata": {},
   "outputs": [],
   "source": []
  },
  {
   "cell_type": "code",
   "execution_count": null,
   "id": "0270fcd2-5052-49a8-b81b-550f54a07cb7",
   "metadata": {},
   "outputs": [],
   "source": []
  },
  {
   "cell_type": "code",
   "execution_count": null,
   "id": "9f258cd3-4888-409f-af8c-e5337e81a1da",
   "metadata": {},
   "outputs": [],
   "source": []
  },
  {
   "cell_type": "code",
   "execution_count": 5,
   "id": "9ad5fe76-2604-487f-9a98-9170a4052338",
   "metadata": {},
   "outputs": [
    {
     "data": {
      "text/html": [
       "<div><style>\n",
       ".dataframe > thead > tr,\n",
       ".dataframe > tbody > tr {\n",
       "  text-align: right;\n",
       "  white-space: pre-wrap;\n",
       "}\n",
       "</style>\n",
       "<small>shape: (5, 42)</small><table border=\"1\" class=\"dataframe\"><thead><tr><th>icgc_mutation_id</th><th>icgc_donor_id</th><th>project_code</th><th>icgc_specimen_id</th><th>icgc_sample_id</th><th>matched_icgc_sample_id</th><th>submitted_sample_id</th><th>submitted_matched_sample_id</th><th>chromosome</th><th>chromosome_start</th><th>chromosome_end</th><th>chromosome_strand</th><th>assembly_version</th><th>mutation_type</th><th>reference_genome_allele</th><th>mutated_from_allele</th><th>mutated_to_allele</th><th>quality_score</th><th>probability</th><th>total_read_count</th><th>mutant_allele_read_count</th><th>verification_status</th><th>verification_platform</th><th>biological_validation_status</th><th>biological_validation_platform</th><th>consequence_type</th><th>aa_mutation</th><th>cds_mutation</th><th>gene_affected</th><th>transcript_affected</th><th>gene_build_version</th><th>platform</th><th>experimental_protocol</th><th>sequencing_strategy</th><th>base_calling_algorithm</th><th>alignment_algorithm</th><th>variation_calling_algorithm</th><th>other_analysis_algorithm</th><th>seq_coverage</th><th>raw_data_repository</th><th>raw_data_accession</th><th>initial_data_release_date</th></tr><tr><td>str</td><td>str</td><td>str</td><td>str</td><td>str</td><td>str</td><td>str</td><td>str</td><td>str</td><td>i64</td><td>i64</td><td>i64</td><td>str</td><td>str</td><td>str</td><td>str</td><td>str</td><td>str</td><td>str</td><td>i64</td><td>i64</td><td>str</td><td>str</td><td>str</td><td>str</td><td>str</td><td>str</td><td>str</td><td>str</td><td>str</td><td>i64</td><td>str</td><td>str</td><td>str</td><td>str</td><td>str</td><td>str</td><td>str</td><td>str</td><td>str</td><td>str</td><td>str</td></tr></thead><tbody><tr><td>&quot;MU55281056&quot;</td><td>&quot;DO218489&quot;</td><td>&quot;BRCA-EU&quot;</td><td>&quot;SP117710&quot;</td><td>&quot;SA543682&quot;</td><td>&quot;SA545080&quot;</td><td>&quot;PD8623a&quot;</td><td>&quot;PD8623b&quot;</td><td>&quot;15&quot;</td><td>24985486</td><td>24985486</td><td>1</td><td>&quot;GRCh37&quot;</td><td>&quot;single base su…</td><td>&quot;G&quot;</td><td>&quot;G&quot;</td><td>&quot;A&quot;</td><td>null</td><td>null</td><td>null</td><td>null</td><td>&quot;tested and ver…</td><td>&quot;capillary sequ…</td><td>&quot;tested and val…</td><td>&quot;capillary sequ…</td><td>&quot;intergenic_reg…</td><td>null</td><td>null</td><td>null</td><td>null</td><td>75</td><td>&quot;Illumina GA se…</td><td>null</td><td>&quot;WGS&quot;</td><td>null</td><td>&quot;BWA v0.5.9 htt…</td><td>&quot;CaVEMan http:/…</td><td>null</td><td>null</td><td>&quot;EGA&quot;</td><td>&quot;EGAS0000100119…</td><td>null</td></tr><tr><td>&quot;MU55281056&quot;</td><td>&quot;DO218489&quot;</td><td>&quot;BRCA-EU&quot;</td><td>&quot;SP117710&quot;</td><td>&quot;SA543682&quot;</td><td>&quot;SA545080&quot;</td><td>&quot;PD8623a&quot;</td><td>&quot;PD8623b&quot;</td><td>&quot;15&quot;</td><td>24985486</td><td>24985486</td><td>1</td><td>&quot;GRCh37&quot;</td><td>&quot;single base su…</td><td>&quot;G&quot;</td><td>&quot;G&quot;</td><td>&quot;A&quot;</td><td>null</td><td>null</td><td>57</td><td>6</td><td>&quot;not tested&quot;</td><td>null</td><td>null</td><td>null</td><td>&quot;intergenic_reg…</td><td>null</td><td>null</td><td>null</td><td>null</td><td>75</td><td>&quot;Illumina HiSeq…</td><td>null</td><td>&quot;WGS&quot;</td><td>null</td><td>null</td><td>&quot;PCAWG Consensu…</td><td>null</td><td>null</td><td>null</td><td>&quot;FI36651:FI3665…</td><td>null</td></tr><tr><td>&quot;MU50780316&quot;</td><td>&quot;DO218489&quot;</td><td>&quot;BRCA-EU&quot;</td><td>&quot;SP117710&quot;</td><td>&quot;SA543682&quot;</td><td>&quot;SA545080&quot;</td><td>&quot;PD8623a&quot;</td><td>&quot;PD8623b&quot;</td><td>&quot;3&quot;</td><td>19778034</td><td>19778034</td><td>1</td><td>&quot;GRCh37&quot;</td><td>&quot;single base su…</td><td>&quot;G&quot;</td><td>&quot;G&quot;</td><td>&quot;A&quot;</td><td>null</td><td>null</td><td>84</td><td>5</td><td>&quot;not tested&quot;</td><td>null</td><td>null</td><td>null</td><td>&quot;intergenic_reg…</td><td>null</td><td>null</td><td>null</td><td>null</td><td>75</td><td>&quot;Illumina HiSeq…</td><td>null</td><td>&quot;WGS&quot;</td><td>null</td><td>null</td><td>&quot;PCAWG Consensu…</td><td>null</td><td>null</td><td>null</td><td>&quot;FI36651:FI3665…</td><td>null</td></tr><tr><td>&quot;MU63478103&quot;</td><td>&quot;DO218489&quot;</td><td>&quot;BRCA-EU&quot;</td><td>&quot;SP117710&quot;</td><td>&quot;SA543682&quot;</td><td>&quot;SA545080&quot;</td><td>&quot;PD8623a&quot;</td><td>&quot;PD8623b&quot;</td><td>&quot;1&quot;</td><td>247616560</td><td>247616560</td><td>1</td><td>&quot;GRCh37&quot;</td><td>&quot;single base su…</td><td>&quot;C&quot;</td><td>&quot;C&quot;</td><td>&quot;T&quot;</td><td>null</td><td>null</td><td>64</td><td>10</td><td>&quot;not tested&quot;</td><td>null</td><td>null</td><td>null</td><td>&quot;downstream_gen…</td><td>null</td><td>null</td><td>&quot;ENSG0000016271…</td><td>&quot;ENST0000053208…</td><td>75</td><td>&quot;Illumina HiSeq…</td><td>null</td><td>&quot;WGS&quot;</td><td>null</td><td>null</td><td>&quot;PCAWG Consensu…</td><td>null</td><td>null</td><td>null</td><td>&quot;FI36651:FI3665…</td><td>null</td></tr><tr><td>&quot;MU63478103&quot;</td><td>&quot;DO218489&quot;</td><td>&quot;BRCA-EU&quot;</td><td>&quot;SP117710&quot;</td><td>&quot;SA543682&quot;</td><td>&quot;SA545080&quot;</td><td>&quot;PD8623a&quot;</td><td>&quot;PD8623b&quot;</td><td>&quot;1&quot;</td><td>247616560</td><td>247616560</td><td>1</td><td>&quot;GRCh37&quot;</td><td>&quot;single base su…</td><td>&quot;C&quot;</td><td>&quot;C&quot;</td><td>&quot;T&quot;</td><td>null</td><td>null</td><td>64</td><td>10</td><td>&quot;not tested&quot;</td><td>null</td><td>null</td><td>null</td><td>&quot;intergenic_reg…</td><td>null</td><td>null</td><td>null</td><td>null</td><td>75</td><td>&quot;Illumina HiSeq…</td><td>null</td><td>&quot;WGS&quot;</td><td>null</td><td>null</td><td>&quot;PCAWG Consensu…</td><td>null</td><td>null</td><td>null</td><td>&quot;FI36651:FI3665…</td><td>null</td></tr></tbody></table></div>"
      ],
      "text/plain": [
       "shape: (5, 42)\n",
       "┌───────────┬───────────┬───────────┬───────────┬───┬───────────┬───────────┬───────────┬──────────┐\n",
       "│ icgc_muta ┆ icgc_dono ┆ project_c ┆ icgc_spec ┆ … ┆ seq_cover ┆ raw_data_ ┆ raw_data_ ┆ initial_ │\n",
       "│ tion_id   ┆ r_id      ┆ ode       ┆ imen_id   ┆   ┆ age       ┆ repositor ┆ accession ┆ data_rel │\n",
       "│ ---       ┆ ---       ┆ ---       ┆ ---       ┆   ┆ ---       ┆ y         ┆ ---       ┆ ease_dat │\n",
       "│ str       ┆ str       ┆ str       ┆ str       ┆   ┆ str       ┆ ---       ┆ str       ┆ e        │\n",
       "│           ┆           ┆           ┆           ┆   ┆           ┆ str       ┆           ┆ ---      │\n",
       "│           ┆           ┆           ┆           ┆   ┆           ┆           ┆           ┆ str      │\n",
       "╞═══════════╪═══════════╪═══════════╪═══════════╪═══╪═══════════╪═══════════╪═══════════╪══════════╡\n",
       "│ MU5528105 ┆ DO218489  ┆ BRCA-EU   ┆ SP117710  ┆ … ┆ null      ┆ EGA       ┆ EGAS00001 ┆ null     │\n",
       "│ 6         ┆           ┆           ┆           ┆   ┆           ┆           ┆ 001195    ┆          │\n",
       "│ MU5528105 ┆ DO218489  ┆ BRCA-EU   ┆ SP117710  ┆ … ┆ null      ┆ null      ┆ FI36651:F ┆ null     │\n",
       "│ 6         ┆           ┆           ┆           ┆   ┆           ┆           ┆ I36650    ┆          │\n",
       "│ MU5078031 ┆ DO218489  ┆ BRCA-EU   ┆ SP117710  ┆ … ┆ null      ┆ null      ┆ FI36651:F ┆ null     │\n",
       "│ 6         ┆           ┆           ┆           ┆   ┆           ┆           ┆ I36650    ┆          │\n",
       "│ MU6347810 ┆ DO218489  ┆ BRCA-EU   ┆ SP117710  ┆ … ┆ null      ┆ null      ┆ FI36651:F ┆ null     │\n",
       "│ 3         ┆           ┆           ┆           ┆   ┆           ┆           ┆ I36650    ┆          │\n",
       "│ MU6347810 ┆ DO218489  ┆ BRCA-EU   ┆ SP117710  ┆ … ┆ null      ┆ null      ┆ FI36651:F ┆ null     │\n",
       "│ 3         ┆           ┆           ┆           ┆   ┆           ┆           ┆ I36650    ┆          │\n",
       "└───────────┴───────────┴───────────┴───────────┴───┴───────────┴───────────┴───────────┴──────────┘"
      ]
     },
     "execution_count": 5,
     "metadata": {},
     "output_type": "execute_result"
    }
   ],
   "source": [
    "mutation_df.head()"
   ]
  },
  {
   "cell_type": "code",
   "execution_count": 7,
   "id": "d836cbef-74b1-4b3a-90ff-112663779667",
   "metadata": {},
   "outputs": [
    {
     "data": {
      "text/html": [
       "<div><style>\n",
       ".dataframe > thead > tr,\n",
       ".dataframe > tbody > tr {\n",
       "  text-align: right;\n",
       "  white-space: pre-wrap;\n",
       "}\n",
       "</style>\n",
       "<small>shape: (9, 43)</small><table border=\"1\" class=\"dataframe\"><thead><tr><th>describe</th><th>icgc_mutation_id</th><th>icgc_donor_id</th><th>project_code</th><th>icgc_specimen_id</th><th>icgc_sample_id</th><th>matched_icgc_sample_id</th><th>submitted_sample_id</th><th>submitted_matched_sample_id</th><th>chromosome</th><th>chromosome_start</th><th>chromosome_end</th><th>chromosome_strand</th><th>assembly_version</th><th>mutation_type</th><th>reference_genome_allele</th><th>mutated_from_allele</th><th>mutated_to_allele</th><th>quality_score</th><th>probability</th><th>total_read_count</th><th>mutant_allele_read_count</th><th>verification_status</th><th>verification_platform</th><th>biological_validation_status</th><th>biological_validation_platform</th><th>consequence_type</th><th>aa_mutation</th><th>cds_mutation</th><th>gene_affected</th><th>transcript_affected</th><th>gene_build_version</th><th>platform</th><th>experimental_protocol</th><th>sequencing_strategy</th><th>base_calling_algorithm</th><th>alignment_algorithm</th><th>variation_calling_algorithm</th><th>other_analysis_algorithm</th><th>seq_coverage</th><th>raw_data_repository</th><th>raw_data_accession</th><th>initial_data_release_date</th></tr><tr><td>str</td><td>str</td><td>str</td><td>str</td><td>str</td><td>str</td><td>str</td><td>str</td><td>str</td><td>str</td><td>f64</td><td>f64</td><td>f64</td><td>str</td><td>str</td><td>str</td><td>str</td><td>str</td><td>str</td><td>str</td><td>f64</td><td>f64</td><td>str</td><td>str</td><td>str</td><td>str</td><td>str</td><td>str</td><td>str</td><td>str</td><td>str</td><td>f64</td><td>str</td><td>str</td><td>str</td><td>str</td><td>str</td><td>str</td><td>str</td><td>str</td><td>str</td><td>str</td><td>str</td></tr></thead><tbody><tr><td>&quot;count&quot;</td><td>&quot;13831513&quot;</td><td>&quot;13831513&quot;</td><td>&quot;13831513&quot;</td><td>&quot;13831513&quot;</td><td>&quot;13831513&quot;</td><td>&quot;13831513&quot;</td><td>&quot;13831513&quot;</td><td>&quot;13831513&quot;</td><td>&quot;13831513&quot;</td><td>1.3831513e7</td><td>1.3831513e7</td><td>1.3831513e7</td><td>&quot;13831513&quot;</td><td>&quot;13831513&quot;</td><td>&quot;13831513&quot;</td><td>&quot;13831513&quot;</td><td>&quot;13831513&quot;</td><td>&quot;13831513&quot;</td><td>&quot;13831513&quot;</td><td>1.3831513e7</td><td>1.3831513e7</td><td>&quot;13831513&quot;</td><td>&quot;13831513&quot;</td><td>&quot;13831513&quot;</td><td>&quot;13831513&quot;</td><td>&quot;13831513&quot;</td><td>&quot;13831513&quot;</td><td>&quot;13831513&quot;</td><td>&quot;13831513&quot;</td><td>&quot;13831513&quot;</td><td>1.3831513e7</td><td>&quot;13831513&quot;</td><td>&quot;13831513&quot;</td><td>&quot;13831513&quot;</td><td>&quot;13831513&quot;</td><td>&quot;13831513&quot;</td><td>&quot;13831513&quot;</td><td>&quot;13831513&quot;</td><td>&quot;13831513&quot;</td><td>&quot;13831513&quot;</td><td>&quot;13831513&quot;</td><td>&quot;13831513&quot;</td></tr><tr><td>&quot;null_count&quot;</td><td>&quot;0&quot;</td><td>&quot;0&quot;</td><td>&quot;0&quot;</td><td>&quot;0&quot;</td><td>&quot;0&quot;</td><td>&quot;0&quot;</td><td>&quot;0&quot;</td><td>&quot;0&quot;</td><td>&quot;0&quot;</td><td>0.0</td><td>0.0</td><td>0.0</td><td>&quot;0&quot;</td><td>&quot;0&quot;</td><td>&quot;0&quot;</td><td>&quot;0&quot;</td><td>&quot;0&quot;</td><td>&quot;13831513&quot;</td><td>&quot;13831513&quot;</td><td>1.2489985e7</td><td>1.2489973e7</td><td>&quot;0&quot;</td><td>&quot;2588738&quot;</td><td>&quot;1344247&quot;</td><td>&quot;2588738&quot;</td><td>&quot;24&quot;</td><td>&quot;13691374&quot;</td><td>&quot;13698356&quot;</td><td>&quot;2059666&quot;</td><td>&quot;2060455&quot;</td><td>24.0</td><td>&quot;0&quot;</td><td>&quot;13831513&quot;</td><td>&quot;0&quot;</td><td>&quot;13831513&quot;</td><td>&quot;1344247&quot;</td><td>&quot;0&quot;</td><td>&quot;13831513&quot;</td><td>&quot;13831513&quot;</td><td>&quot;1344247&quot;</td><td>&quot;0&quot;</td><td>&quot;13831513&quot;</td></tr><tr><td>&quot;mean&quot;</td><td>null</td><td>null</td><td>null</td><td>null</td><td>null</td><td>null</td><td>null</td><td>null</td><td>null</td><td>8.0636e7</td><td>8.0636e7</td><td>1.0</td><td>null</td><td>null</td><td>null</td><td>null</td><td>null</td><td>null</td><td>null</td><td>54.073377</td><td>12.167813</td><td>null</td><td>null</td><td>null</td><td>null</td><td>null</td><td>null</td><td>null</td><td>null</td><td>null</td><td>75.0</td><td>null</td><td>null</td><td>null</td><td>null</td><td>null</td><td>null</td><td>null</td><td>null</td><td>null</td><td>null</td><td>null</td></tr><tr><td>&quot;std&quot;</td><td>null</td><td>null</td><td>null</td><td>null</td><td>null</td><td>null</td><td>null</td><td>null</td><td>null</td><td>5.7104e7</td><td>5.7104e7</td><td>0.0</td><td>null</td><td>null</td><td>null</td><td>null</td><td>null</td><td>null</td><td>null</td><td>23.576048</td><td>10.564501</td><td>null</td><td>null</td><td>null</td><td>null</td><td>null</td><td>null</td><td>null</td><td>null</td><td>null</td><td>0.0</td><td>null</td><td>null</td><td>null</td><td>null</td><td>null</td><td>null</td><td>null</td><td>null</td><td>null</td><td>null</td><td>null</td></tr><tr><td>&quot;min&quot;</td><td>&quot;MU1000744&quot;</td><td>&quot;DO217786&quot;</td><td>&quot;BRCA-EU&quot;</td><td>&quot;SP116946&quot;</td><td>&quot;SA542425&quot;</td><td>&quot;SA544319&quot;</td><td>&quot;PD10010a&quot;</td><td>&quot;PD10010b&quot;</td><td>&quot;1&quot;</td><td>421.0</td><td>421.0</td><td>1.0</td><td>&quot;GRCh37&quot;</td><td>&quot;deletion of &lt;=…</td><td>&quot;-&quot;</td><td>&quot;-&quot;</td><td>&quot;-&quot;</td><td>null</td><td>null</td><td>3.0</td><td>1.0</td><td>&quot;not tested&quot;</td><td>&quot;capillary sequ…</td><td>&quot;not tested&quot;</td><td>&quot;capillary sequ…</td><td>&quot;3_prime_UTR_va…</td><td>&quot;*101*&quot;</td><td>&quot;100000C&gt;G&quot;</td><td>&quot;ENSG0000000000…</td><td>&quot;ENST0000000023…</td><td>75.0</td><td>&quot;Illumina GA se…</td><td>null</td><td>&quot;WGS&quot;</td><td>null</td><td>&quot;BWA v0.5.9 htt…</td><td>&quot;CaVEMan http:/…</td><td>null</td><td>null</td><td>&quot;EGA&quot;</td><td>&quot;EGAS0000100119…</td><td>null</td></tr><tr><td>&quot;25%&quot;</td><td>null</td><td>null</td><td>null</td><td>null</td><td>null</td><td>null</td><td>null</td><td>null</td><td>null</td><td>3.450126e7</td><td>3.450126e7</td><td>1.0</td><td>null</td><td>null</td><td>null</td><td>null</td><td>null</td><td>null</td><td>null</td><td>41.0</td><td>6.0</td><td>null</td><td>null</td><td>null</td><td>null</td><td>null</td><td>null</td><td>null</td><td>null</td><td>null</td><td>75.0</td><td>null</td><td>null</td><td>null</td><td>null</td><td>null</td><td>null</td><td>null</td><td>null</td><td>null</td><td>null</td><td>null</td></tr><tr><td>&quot;50%&quot;</td><td>null</td><td>null</td><td>null</td><td>null</td><td>null</td><td>null</td><td>null</td><td>null</td><td>null</td><td>7.0179293e7</td><td>7.0179293e7</td><td>1.0</td><td>null</td><td>null</td><td>null</td><td>null</td><td>null</td><td>null</td><td>null</td><td>50.0</td><td>9.0</td><td>null</td><td>null</td><td>null</td><td>null</td><td>null</td><td>null</td><td>null</td><td>null</td><td>null</td><td>75.0</td><td>null</td><td>null</td><td>null</td><td>null</td><td>null</td><td>null</td><td>null</td><td>null</td><td>null</td><td>null</td><td>null</td></tr><tr><td>&quot;75%&quot;</td><td>null</td><td>null</td><td>null</td><td>null</td><td>null</td><td>null</td><td>null</td><td>null</td><td>null</td><td>1.17709201e8</td><td>1.17709201e8</td><td>1.0</td><td>null</td><td>null</td><td>null</td><td>null</td><td>null</td><td>null</td><td>null</td><td>62.0</td><td>14.0</td><td>null</td><td>null</td><td>null</td><td>null</td><td>null</td><td>null</td><td>null</td><td>null</td><td>null</td><td>75.0</td><td>null</td><td>null</td><td>null</td><td>null</td><td>null</td><td>null</td><td>null</td><td>null</td><td>null</td><td>null</td><td>null</td></tr><tr><td>&quot;max&quot;</td><td>&quot;MU9993472&quot;</td><td>&quot;DO225398&quot;</td><td>&quot;BRCA-EU&quot;</td><td>&quot;SP135175&quot;</td><td>&quot;SA570821&quot;</td><td>&quot;SA570822&quot;</td><td>&quot;PD9847a&quot;</td><td>&quot;PD9847b&quot;</td><td>&quot;Y&quot;</td><td>2.49239538e8</td><td>2.49239538e8</td><td>1.0</td><td>&quot;GRCh37&quot;</td><td>&quot;single base su…</td><td>&quot;TTTTTTTTTTTTTT…</td><td>&quot;TTTTTTTTTTTTTT…</td><td>&quot;TTTTTTTTCA&quot;</td><td>null</td><td>null</td><td>917.0</td><td>561.0</td><td>&quot;tested and ver…</td><td>&quot;capillary sequ…</td><td>&quot;tested and val…</td><td>&quot;capillary sequ…</td><td>&quot;upstream_gene_…</td><td>&quot;YVMGGVAM72&quot;</td><td>&quot;9T&gt;C&quot;</td><td>&quot;ENSG0000027349…</td><td>&quot;ENST0000061028…</td><td>75.0</td><td>&quot;Illumina HiSeq…</td><td>null</td><td>&quot;WGS&quot;</td><td>null</td><td>&quot;BWA v0.5.9 htt…</td><td>&quot;Pindel version…</td><td>null</td><td>null</td><td>&quot;EGA&quot;</td><td>&quot;FI9995:FI9994&quot;</td><td>null</td></tr></tbody></table></div>"
      ],
      "text/plain": [
       "shape: (9, 43)\n",
       "┌───────────┬───────────┬───────────┬───────────┬───┬───────────┬───────────┬───────────┬──────────┐\n",
       "│ describe  ┆ icgc_muta ┆ icgc_dono ┆ project_c ┆ … ┆ seq_cover ┆ raw_data_ ┆ raw_data_ ┆ initial_ │\n",
       "│ ---       ┆ tion_id   ┆ r_id      ┆ ode       ┆   ┆ age       ┆ repositor ┆ accession ┆ data_rel │\n",
       "│ str       ┆ ---       ┆ ---       ┆ ---       ┆   ┆ ---       ┆ y         ┆ ---       ┆ ease_dat │\n",
       "│           ┆ str       ┆ str       ┆ str       ┆   ┆ str       ┆ ---       ┆ str       ┆ e        │\n",
       "│           ┆           ┆           ┆           ┆   ┆           ┆ str       ┆           ┆ ---      │\n",
       "│           ┆           ┆           ┆           ┆   ┆           ┆           ┆           ┆ str      │\n",
       "╞═══════════╪═══════════╪═══════════╪═══════════╪═══╪═══════════╪═══════════╪═══════════╪══════════╡\n",
       "│ count     ┆ 13831513  ┆ 13831513  ┆ 13831513  ┆ … ┆ 13831513  ┆ 13831513  ┆ 13831513  ┆ 13831513 │\n",
       "│ null_coun ┆ 0         ┆ 0         ┆ 0         ┆ … ┆ 13831513  ┆ 1344247   ┆ 0         ┆ 13831513 │\n",
       "│ t         ┆           ┆           ┆           ┆   ┆           ┆           ┆           ┆          │\n",
       "│ mean      ┆ null      ┆ null      ┆ null      ┆ … ┆ null      ┆ null      ┆ null      ┆ null     │\n",
       "│ std       ┆ null      ┆ null      ┆ null      ┆ … ┆ null      ┆ null      ┆ null      ┆ null     │\n",
       "│ min       ┆ MU1000744 ┆ DO217786  ┆ BRCA-EU   ┆ … ┆ null      ┆ EGA       ┆ EGAS00001 ┆ null     │\n",
       "│           ┆           ┆           ┆           ┆   ┆           ┆           ┆ 001195    ┆          │\n",
       "│ 25%       ┆ null      ┆ null      ┆ null      ┆ … ┆ null      ┆ null      ┆ null      ┆ null     │\n",
       "│ 50%       ┆ null      ┆ null      ┆ null      ┆ … ┆ null      ┆ null      ┆ null      ┆ null     │\n",
       "│ 75%       ┆ null      ┆ null      ┆ null      ┆ … ┆ null      ┆ null      ┆ null      ┆ null     │\n",
       "│ max       ┆ MU9993472 ┆ DO225398  ┆ BRCA-EU   ┆ … ┆ null      ┆ EGA       ┆ FI9995:FI ┆ null     │\n",
       "│           ┆           ┆           ┆           ┆   ┆           ┆           ┆ 9994      ┆          │\n",
       "└───────────┴───────────┴───────────┴───────────┴───┴───────────┴───────────┴───────────┴──────────┘"
      ]
     },
     "execution_count": 7,
     "metadata": {},
     "output_type": "execute_result"
    }
   ],
   "source": [
    "mutation_df.describe()"
   ]
  },
  {
   "cell_type": "code",
   "execution_count": 8,
   "id": "f56ab206-1bd7-44a3-935b-e9489c4e7144",
   "metadata": {},
   "outputs": [
    {
     "data": {
      "text/plain": [
       "['icgc_mutation_id',\n",
       " 'icgc_donor_id',\n",
       " 'project_code',\n",
       " 'icgc_specimen_id',\n",
       " 'icgc_sample_id',\n",
       " 'matched_icgc_sample_id',\n",
       " 'submitted_sample_id',\n",
       " 'submitted_matched_sample_id',\n",
       " 'chromosome',\n",
       " 'chromosome_start',\n",
       " 'chromosome_end',\n",
       " 'chromosome_strand',\n",
       " 'assembly_version',\n",
       " 'mutation_type',\n",
       " 'reference_genome_allele',\n",
       " 'mutated_from_allele',\n",
       " 'mutated_to_allele',\n",
       " 'quality_score',\n",
       " 'probability',\n",
       " 'total_read_count',\n",
       " 'mutant_allele_read_count',\n",
       " 'verification_status',\n",
       " 'verification_platform',\n",
       " 'biological_validation_status',\n",
       " 'biological_validation_platform',\n",
       " 'consequence_type',\n",
       " 'aa_mutation',\n",
       " 'cds_mutation',\n",
       " 'gene_affected',\n",
       " 'transcript_affected',\n",
       " 'gene_build_version',\n",
       " 'platform',\n",
       " 'experimental_protocol',\n",
       " 'sequencing_strategy',\n",
       " 'base_calling_algorithm',\n",
       " 'alignment_algorithm',\n",
       " 'variation_calling_algorithm',\n",
       " 'other_analysis_algorithm',\n",
       " 'seq_coverage',\n",
       " 'raw_data_repository',\n",
       " 'raw_data_accession',\n",
       " 'initial_data_release_date']"
      ]
     },
     "execution_count": 8,
     "metadata": {},
     "output_type": "execute_result"
    }
   ],
   "source": [
    "mutation_df.columns"
   ]
  },
  {
   "cell_type": "code",
   "execution_count": 9,
   "id": "41e43fb9-bbfb-4305-8c12-68c40306039b",
   "metadata": {},
   "outputs": [
    {
     "data": {
      "text/plain": [
       "569"
      ]
     },
     "execution_count": 9,
     "metadata": {},
     "output_type": "execute_result"
    }
   ],
   "source": [
    "mutation_df[\"icgc_donor_id\"].n_unique()"
   ]
  },
  {
   "cell_type": "code",
   "execution_count": 10,
   "id": "02955a7f-0f5f-45bb-8b10-371f352d7a86",
   "metadata": {},
   "outputs": [
    {
     "data": {
      "text/plain": [
       "['single base substitution',\n",
       " 'insertion of <=200bp',\n",
       " 'deletion of <=200bp',\n",
       " 'multiple base substitution (>=2bp and <=200bp)']"
      ]
     },
     "execution_count": 10,
     "metadata": {},
     "output_type": "execute_result"
    }
   ],
   "source": [
    "[x for x in mutation_df[\"mutation_type\"].unique()]"
   ]
  },
  {
   "cell_type": "code",
   "execution_count": 6,
   "id": "2286e815-63bf-46d2-a36e-6928e8daa22b",
   "metadata": {},
   "outputs": [],
   "source": [
    "mutation_df.write_parquet(\"data/simple_somatic_mutation.open.BRCA-EU.parquet\")"
   ]
  },
  {
   "cell_type": "code",
   "execution_count": null,
   "id": "af55ea83-45d8-4e95-9e34-58d18698d075",
   "metadata": {},
   "outputs": [],
   "source": [
    "mutation_df.filter(pl.col(\"mutation_type\") == \"single base substitution\").write_csv(\"data/simple_somatic_mutation_sbs.tsv\", separator=\"\\t\")"
   ]
  },
  {
   "cell_type": "code",
   "execution_count": null,
   "id": "a46e8da0-d03f-48b0-9be7-6d1772f05e65",
   "metadata": {},
   "outputs": [],
   "source": [
    "mutation_df.filter(pl.col(\"mutation_type\") == \"single base substitution\").write_parquet(\"data/simple_somatic_mutation_sbs.parquet\")"
   ]
  },
  {
   "cell_type": "code",
   "execution_count": null,
   "id": "f3232315-4765-4c98-9d37-bd76ac40aff0",
   "metadata": {},
   "outputs": [],
   "source": []
  }
 ],
 "metadata": {
  "kernelspec": {
   "display_name": "Python 3 (ipykernel)",
   "language": "python",
   "name": "python3"
  },
  "language_info": {
   "codemirror_mode": {
    "name": "ipython",
    "version": 3
   },
   "file_extension": ".py",
   "mimetype": "text/x-python",
   "name": "python",
   "nbconvert_exporter": "python",
   "pygments_lexer": "ipython3",
   "version": "3.11.7"
  }
 },
 "nbformat": 4,
 "nbformat_minor": 5
}
